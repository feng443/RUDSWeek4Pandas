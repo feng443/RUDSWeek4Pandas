{
 "cells": [
  {
   "cell_type": "markdown",
   "metadata": {},
   "source": [
    "# Exploring Data Analsis of Purchase Data"
   ]
  },
  {
   "cell_type": "markdown",
   "metadata": {},
   "source": [
    "## Trends\n",
    "1. Majority of players are male\n",
    "2. Majority of purchaes are made by players between 15 to 24 \n",
    "3. Most items are only purchased once based on the data file. This might not be true if the data is just a sample.\n",
    "4. Plyer age distribution is close to normal but slightly right skewed"
   ]
  },
  {
   "cell_type": "code",
   "execution_count": 1,
   "metadata": {
    "collapsed": true
   },
   "outputs": [],
   "source": [
    "import os\n",
    "from pandas import Series, DataFrame\n",
    "import pandas as pd\n",
    "import matplotlib.pyplot as plt"
   ]
  },
  {
   "cell_type": "markdown",
   "metadata": {},
   "source": [
    "## Load to DataFrame"
   ]
  },
  {
   "cell_type": "code",
   "execution_count": 2,
   "metadata": {},
   "outputs": [
    {
     "name": "stdout",
     "output_type": "stream",
     "text": [
      "What's the input file?purchase_data2.json\n"
     ]
    }
   ],
   "source": [
    "DATA_PATH = '.'\n",
    "file = input(\"What's the input file?\")\n",
    "full_path = os.path.join(DATA_PATH, file)\n",
    "df_purchase = pd.read_json(full_path)"
   ]
  },
  {
   "cell_type": "markdown",
   "metadata": {
    "collapsed": true
   },
   "source": [
    "## Take a look at data"
   ]
  },
  {
   "cell_type": "code",
   "execution_count": 3,
   "metadata": {},
   "outputs": [
    {
     "data": {
      "text/plain": [
       "Index(['Age', 'Gender', 'Item ID', 'Item Name', 'Price', 'SN'], dtype='object')"
      ]
     },
     "execution_count": 3,
     "metadata": {},
     "output_type": "execute_result"
    }
   ],
   "source": [
    "df_purchase.columns"
   ]
  },
  {
   "cell_type": "code",
   "execution_count": 4,
   "metadata": {
    "scrolled": true
   },
   "outputs": [
    {
     "data": {
      "text/html": [
       "<div>\n",
       "<style>\n",
       "    .dataframe thead tr:only-child th {\n",
       "        text-align: right;\n",
       "    }\n",
       "\n",
       "    .dataframe thead th {\n",
       "        text-align: left;\n",
       "    }\n",
       "\n",
       "    .dataframe tbody tr th {\n",
       "        vertical-align: top;\n",
       "    }\n",
       "</style>\n",
       "<table border=\"1\" class=\"dataframe\">\n",
       "  <thead>\n",
       "    <tr style=\"text-align: right;\">\n",
       "      <th></th>\n",
       "      <th>Age</th>\n",
       "      <th>Gender</th>\n",
       "      <th>Item ID</th>\n",
       "      <th>Item Name</th>\n",
       "      <th>Price</th>\n",
       "      <th>SN</th>\n",
       "    </tr>\n",
       "  </thead>\n",
       "  <tbody>\n",
       "    <tr>\n",
       "      <th>0</th>\n",
       "      <td>20</td>\n",
       "      <td>Male</td>\n",
       "      <td>93</td>\n",
       "      <td>Apocalyptic Battlescythe</td>\n",
       "      <td>4.49</td>\n",
       "      <td>Iloni35</td>\n",
       "    </tr>\n",
       "    <tr>\n",
       "      <th>1</th>\n",
       "      <td>21</td>\n",
       "      <td>Male</td>\n",
       "      <td>12</td>\n",
       "      <td>Dawne</td>\n",
       "      <td>3.36</td>\n",
       "      <td>Aidaira26</td>\n",
       "    </tr>\n",
       "    <tr>\n",
       "      <th>2</th>\n",
       "      <td>17</td>\n",
       "      <td>Male</td>\n",
       "      <td>5</td>\n",
       "      <td>Putrid Fan</td>\n",
       "      <td>2.63</td>\n",
       "      <td>Irim47</td>\n",
       "    </tr>\n",
       "    <tr>\n",
       "      <th>3</th>\n",
       "      <td>17</td>\n",
       "      <td>Male</td>\n",
       "      <td>123</td>\n",
       "      <td>Twilight's Carver</td>\n",
       "      <td>2.55</td>\n",
       "      <td>Irith83</td>\n",
       "    </tr>\n",
       "    <tr>\n",
       "      <th>4</th>\n",
       "      <td>22</td>\n",
       "      <td>Male</td>\n",
       "      <td>154</td>\n",
       "      <td>Feral Katana</td>\n",
       "      <td>4.11</td>\n",
       "      <td>Philodil43</td>\n",
       "    </tr>\n",
       "  </tbody>\n",
       "</table>\n",
       "</div>"
      ],
      "text/plain": [
       "   Age Gender  Item ID                 Item Name  Price          SN\n",
       "0   20   Male       93  Apocalyptic Battlescythe   4.49     Iloni35\n",
       "1   21   Male       12                     Dawne   3.36   Aidaira26\n",
       "2   17   Male        5                Putrid Fan   2.63      Irim47\n",
       "3   17   Male      123         Twilight's Carver   2.55     Irith83\n",
       "4   22   Male      154              Feral Katana   4.11  Philodil43"
      ]
     },
     "execution_count": 4,
     "metadata": {},
     "output_type": "execute_result"
    }
   ],
   "source": [
    "df_purchase.head()"
   ]
  },
  {
   "cell_type": "code",
   "execution_count": 5,
   "metadata": {},
   "outputs": [
    {
     "data": {
      "text/html": [
       "<div>\n",
       "<style>\n",
       "    .dataframe thead tr:only-child th {\n",
       "        text-align: right;\n",
       "    }\n",
       "\n",
       "    .dataframe thead th {\n",
       "        text-align: left;\n",
       "    }\n",
       "\n",
       "    .dataframe tbody tr th {\n",
       "        vertical-align: top;\n",
       "    }\n",
       "</style>\n",
       "<table border=\"1\" class=\"dataframe\">\n",
       "  <thead>\n",
       "    <tr style=\"text-align: right;\">\n",
       "      <th></th>\n",
       "      <th>Age</th>\n",
       "      <th>Item ID</th>\n",
       "      <th>Price</th>\n",
       "    </tr>\n",
       "  </thead>\n",
       "  <tbody>\n",
       "    <tr>\n",
       "      <th>count</th>\n",
       "      <td>78.000000</td>\n",
       "      <td>78.000000</td>\n",
       "      <td>78.000000</td>\n",
       "    </tr>\n",
       "    <tr>\n",
       "      <th>mean</th>\n",
       "      <td>22.551282</td>\n",
       "      <td>93.935897</td>\n",
       "      <td>2.924359</td>\n",
       "    </tr>\n",
       "    <tr>\n",
       "      <th>std</th>\n",
       "      <td>7.339003</td>\n",
       "      <td>56.352633</td>\n",
       "      <td>1.134913</td>\n",
       "    </tr>\n",
       "    <tr>\n",
       "      <th>min</th>\n",
       "      <td>7.000000</td>\n",
       "      <td>0.000000</td>\n",
       "      <td>1.020000</td>\n",
       "    </tr>\n",
       "    <tr>\n",
       "      <th>25%</th>\n",
       "      <td>20.000000</td>\n",
       "      <td>48.000000</td>\n",
       "      <td>1.925000</td>\n",
       "    </tr>\n",
       "    <tr>\n",
       "      <th>50%</th>\n",
       "      <td>22.500000</td>\n",
       "      <td>97.500000</td>\n",
       "      <td>2.770000</td>\n",
       "    </tr>\n",
       "    <tr>\n",
       "      <th>75%</th>\n",
       "      <td>25.000000</td>\n",
       "      <td>137.000000</td>\n",
       "      <td>4.092500</td>\n",
       "    </tr>\n",
       "    <tr>\n",
       "      <th>max</th>\n",
       "      <td>40.000000</td>\n",
       "      <td>181.000000</td>\n",
       "      <td>4.810000</td>\n",
       "    </tr>\n",
       "  </tbody>\n",
       "</table>\n",
       "</div>"
      ],
      "text/plain": [
       "             Age     Item ID      Price\n",
       "count  78.000000   78.000000  78.000000\n",
       "mean   22.551282   93.935897   2.924359\n",
       "std     7.339003   56.352633   1.134913\n",
       "min     7.000000    0.000000   1.020000\n",
       "25%    20.000000   48.000000   1.925000\n",
       "50%    22.500000   97.500000   2.770000\n",
       "75%    25.000000  137.000000   4.092500\n",
       "max    40.000000  181.000000   4.810000"
      ]
     },
     "execution_count": 5,
     "metadata": {},
     "output_type": "execute_result"
    }
   ],
   "source": [
    "df_purchase.describe()"
   ]
  },
  {
   "cell_type": "markdown",
   "metadata": {},
   "source": [
    "## Player Count"
   ]
  },
  {
   "cell_type": "markdown",
   "metadata": {},
   "source": [
    "The SN looks like can uniquely identify a player so get the unique count of it."
   ]
  },
  {
   "cell_type": "code",
   "execution_count": 6,
   "metadata": {
    "scrolled": true
   },
   "outputs": [
    {
     "data": {
      "text/html": [
       "<div>\n",
       "<style>\n",
       "    .dataframe thead tr:only-child th {\n",
       "        text-align: right;\n",
       "    }\n",
       "\n",
       "    .dataframe thead th {\n",
       "        text-align: left;\n",
       "    }\n",
       "\n",
       "    .dataframe tbody tr th {\n",
       "        vertical-align: top;\n",
       "    }\n",
       "</style>\n",
       "<table border=\"1\" class=\"dataframe\">\n",
       "  <thead>\n",
       "    <tr style=\"text-align: right;\">\n",
       "      <th></th>\n",
       "      <th>Total Playsers</th>\n",
       "    </tr>\n",
       "  </thead>\n",
       "  <tbody>\n",
       "    <tr>\n",
       "      <th>0</th>\n",
       "      <td>74</td>\n",
       "    </tr>\n",
       "  </tbody>\n",
       "</table>\n",
       "</div>"
      ],
      "text/plain": [
       "   Total Playsers\n",
       "0              74"
      ]
     },
     "execution_count": 6,
     "metadata": {},
     "output_type": "execute_result"
    }
   ],
   "source": [
    "DataFrame( [ {\n",
    "    'Total Playsers': len(df_purchase['SN'].unique())\n",
    "} ])"
   ]
  },
  {
   "cell_type": "markdown",
   "metadata": {},
   "source": [
    "## Purchasing Analysis (Total)"
   ]
  },
  {
   "cell_type": "code",
   "execution_count": 7,
   "metadata": {},
   "outputs": [
    {
     "data": {
      "text/html": [
       "<style  type=\"text/css\" >\n",
       "</style>  \n",
       "<table id=\"T_c548774a_1ab4_11e8_b996_74e54394bcc7\" > \n",
       "<thead>    <tr> \n",
       "        <th class=\"blank level0\" ></th> \n",
       "        <th class=\"col_heading level0 col0\" >Number of Unique Items</th> \n",
       "        <th class=\"col_heading level0 col1\" >Average Price</th> \n",
       "        <th class=\"col_heading level0 col2\" >Number of Purchases</th> \n",
       "        <th class=\"col_heading level0 col3\" >Total Revenue</th> \n",
       "    </tr></thead> \n",
       "<tbody>    <tr> \n",
       "        <th id=\"T_c548774a_1ab4_11e8_b996_74e54394bcc7level0_row0\" class=\"row_heading level0 row0\" >0</th> \n",
       "        <td id=\"T_c548774a_1ab4_11e8_b996_74e54394bcc7row0_col0\" class=\"data row0 col0\" >64</td> \n",
       "        <td id=\"T_c548774a_1ab4_11e8_b996_74e54394bcc7row0_col1\" class=\"data row0 col1\" >$2.92</td> \n",
       "        <td id=\"T_c548774a_1ab4_11e8_b996_74e54394bcc7row0_col2\" class=\"data row0 col2\" >78</td> \n",
       "        <td id=\"T_c548774a_1ab4_11e8_b996_74e54394bcc7row0_col3\" class=\"data row0 col3\" >$228.10</td> \n",
       "    </tr></tbody> \n",
       "</table> "
      ],
      "text/plain": [
       "<pandas.io.formats.style.Styler at 0x1d8f7c597b8>"
      ]
     },
     "execution_count": 7,
     "metadata": {},
     "output_type": "execute_result"
    }
   ],
   "source": [
    "DataFrame(\n",
    "    columns = [\n",
    "       'Number of Unique Items',\n",
    "       'Average Price',\n",
    "       'Number of Purchases',\n",
    "       'Total Revenue',\n",
    "    ],\n",
    "    data = [\n",
    "       [len(df_purchase['Item ID'].unique()),\n",
    "        df_purchase.Price.mean(),\n",
    "        df_purchase.Price.count(),\n",
    "        df_purchase.Price.sum(),\n",
    "       ],\n",
    "    ], \n",
    ").style.format(\n",
    "    {'Average Price': '${:,.2f}',\n",
    "     'Total Revenue': '${:,.2f}',\n",
    "    }\n",
    ")"
   ]
  },
  {
   "cell_type": "markdown",
   "metadata": {
    "collapsed": true
   },
   "source": [
    "## Gender Demographics"
   ]
  },
  {
   "cell_type": "code",
   "execution_count": 8,
   "metadata": {},
   "outputs": [
    {
     "data": {
      "text/html": [
       "<style  type=\"text/css\" >\n",
       "</style>  \n",
       "<table id=\"T_c54d3208_1ab4_11e8_926e_74e54394bcc7\" > \n",
       "<thead>    <tr> \n",
       "        <th class=\"blank level0\" ></th> \n",
       "        <th class=\"col_heading level0 col0\" >Toatl Count</th> \n",
       "        <th class=\"col_heading level0 col1\" >Percenage of Players</th> \n",
       "    </tr>    <tr> \n",
       "        <th class=\"index_name level0\" >Gender</th> \n",
       "        <th class=\"blank\" ></th> \n",
       "        <th class=\"blank\" ></th> \n",
       "    </tr></thead> \n",
       "<tbody>    <tr> \n",
       "        <th id=\"T_c54d3208_1ab4_11e8_926e_74e54394bcc7level0_row0\" class=\"row_heading level0 row0\" >Female</th> \n",
       "        <td id=\"T_c54d3208_1ab4_11e8_926e_74e54394bcc7row0_col0\" class=\"data row0 col0\" >13</td> \n",
       "        <td id=\"T_c54d3208_1ab4_11e8_926e_74e54394bcc7row0_col1\" class=\"data row0 col1\" >17.57%</td> \n",
       "    </tr>    <tr> \n",
       "        <th id=\"T_c54d3208_1ab4_11e8_926e_74e54394bcc7level0_row1\" class=\"row_heading level0 row1\" >Male</th> \n",
       "        <td id=\"T_c54d3208_1ab4_11e8_926e_74e54394bcc7row1_col0\" class=\"data row1 col0\" >60</td> \n",
       "        <td id=\"T_c54d3208_1ab4_11e8_926e_74e54394bcc7row1_col1\" class=\"data row1 col1\" >81.08%</td> \n",
       "    </tr>    <tr> \n",
       "        <th id=\"T_c54d3208_1ab4_11e8_926e_74e54394bcc7level0_row2\" class=\"row_heading level0 row2\" >Other / Non-Disclosed</th> \n",
       "        <td id=\"T_c54d3208_1ab4_11e8_926e_74e54394bcc7row2_col0\" class=\"data row2 col0\" >1</td> \n",
       "        <td id=\"T_c54d3208_1ab4_11e8_926e_74e54394bcc7row2_col1\" class=\"data row2 col1\" >1.35%</td> \n",
       "    </tr></tbody> \n",
       "</table> "
      ],
      "text/plain": [
       "<pandas.io.formats.style.Styler at 0x1d8f82e0c50>"
      ]
     },
     "execution_count": 8,
     "metadata": {},
     "output_type": "execute_result"
    }
   ],
   "source": [
    "df_gender_demographics = DataFrame(\n",
    "    df_purchase.groupby('Gender')['SN'].unique()\n",
    ").assign(\n",
    "    cnt = lambda x: x['SN'].map(len)\n",
    ").assign(\n",
    "    perc=lambda x: x['cnt'] / len(df_purchase['SN'].unique())\n",
    ").drop(\n",
    "    'SN', axis=1\n",
    ").rename(\n",
    "    columns = {\n",
    "        'cnt': 'Toatl Count',\n",
    "        'perc': 'Percenage of Players'\n",
    "    }\n",
    ")\n",
    "\n",
    "df_gender_demographics.style.format(\n",
    "    {\n",
    "      'Percenage of Players': '{:.2%}' \n",
    "    }\n",
    ")\n"
   ]
  },
  {
   "cell_type": "code",
   "execution_count": 9,
   "metadata": {},
   "outputs": [
    {
     "data": {
      "image/png": "[encoded data removed]",
      "text/plain": [
       "<matplotlib.figure.Figure at 0x1d8f82e54a8>"
      ]
     },
     "metadata": {},
     "output_type": "display_data"
    }
   ],
   "source": [
    "df_gender_demographics['Percenage of Players'].plot.pie()\n",
    "plt.show()"
   ]
  },
  {
   "cell_type": "markdown",
   "metadata": {},
   "source": [
    "## Purchasing Analysis (Gender)\n",
    "**What the hell is 'Normalized Total'?**"
   ]
  },
  {
   "cell_type": "code",
   "execution_count": 10,
   "metadata": {},
   "outputs": [
    {
     "name": "stderr",
     "output_type": "stream",
     "text": [
      "C:\\ProgramData\\Anaconda3\\lib\\site-packages\\ipykernel_launcher.py:6: FutureWarning: using a dict on a Series for aggregation\n",
      "is deprecated and will be removed in a future version\n",
      "  \n"
     ]
    },
    {
     "data": {
      "text/html": [
       "<style  type=\"text/css\" >\n",
       "</style>  \n",
       "<table id=\"T_c5892a5e_1ab4_11e8_b20d_74e54394bcc7\" > \n",
       "<thead>    <tr> \n",
       "        <th class=\"blank level0\" ></th> \n",
       "        <th class=\"col_heading level0 col0\" >Purchase Count</th> \n",
       "        <th class=\"col_heading level0 col1\" >Average Purchase Price</th> \n",
       "        <th class=\"col_heading level0 col2\" >Total Purchase Value</th> \n",
       "    </tr>    <tr> \n",
       "        <th class=\"index_name level0\" >Gender</th> \n",
       "        <th class=\"blank\" ></th> \n",
       "        <th class=\"blank\" ></th> \n",
       "        <th class=\"blank\" ></th> \n",
       "    </tr></thead> \n",
       "<tbody>    <tr> \n",
       "        <th id=\"T_c5892a5e_1ab4_11e8_b20d_74e54394bcc7level0_row0\" class=\"row_heading level0 row0\" >Female</th> \n",
       "        <td id=\"T_c5892a5e_1ab4_11e8_b20d_74e54394bcc7row0_col0\" class=\"data row0 col0\" >13</td> \n",
       "        <td id=\"T_c5892a5e_1ab4_11e8_b20d_74e54394bcc7row0_col1\" class=\"data row0 col1\" >$3.18</td> \n",
       "        <td id=\"T_c5892a5e_1ab4_11e8_b20d_74e54394bcc7row0_col2\" class=\"data row0 col2\" >$41.38</td> \n",
       "    </tr>    <tr> \n",
       "        <th id=\"T_c5892a5e_1ab4_11e8_b20d_74e54394bcc7level0_row1\" class=\"row_heading level0 row1\" >Male</th> \n",
       "        <td id=\"T_c5892a5e_1ab4_11e8_b20d_74e54394bcc7row1_col0\" class=\"data row1 col0\" >64</td> \n",
       "        <td id=\"T_c5892a5e_1ab4_11e8_b20d_74e54394bcc7row1_col1\" class=\"data row1 col1\" >$2.88</td> \n",
       "        <td id=\"T_c5892a5e_1ab4_11e8_b20d_74e54394bcc7row1_col2\" class=\"data row1 col2\" >$184.60</td> \n",
       "    </tr>    <tr> \n",
       "        <th id=\"T_c5892a5e_1ab4_11e8_b20d_74e54394bcc7level0_row2\" class=\"row_heading level0 row2\" >Other / Non-Disclosed</th> \n",
       "        <td id=\"T_c5892a5e_1ab4_11e8_b20d_74e54394bcc7row2_col0\" class=\"data row2 col0\" >1</td> \n",
       "        <td id=\"T_c5892a5e_1ab4_11e8_b20d_74e54394bcc7row2_col1\" class=\"data row2 col1\" >$2.12</td> \n",
       "        <td id=\"T_c5892a5e_1ab4_11e8_b20d_74e54394bcc7row2_col2\" class=\"data row2 col2\" >$2.12</td> \n",
       "    </tr></tbody> \n",
       "</table> "
      ],
      "text/plain": [
       "<pandas.io.formats.style.Styler at 0x1d8f82e5978>"
      ]
     },
     "execution_count": 10,
     "metadata": {},
     "output_type": "execute_result"
    }
   ],
   "source": [
    "df_grouped = df_purchase.groupby('Gender')['Price']\n",
    "df_grouped.agg(\n",
    "    { \n",
    "        'Purchase Count': 'count',\n",
    "        'Average Purchase Price': 'mean',\n",
    "        'Total Purchase Value': 'sum'\n",
    "    }\n",
    ").style.format(\n",
    "    {'Average Purchase Price': '${:,.2f}',\n",
    "     'Total Purchase Value': '${:,.2f}',\n",
    "    }\n",
    ")\n"
   ]
  },
  {
   "cell_type": "markdown",
   "metadata": {},
   "source": [
    "This method does look straight forwad but the feature will be dropped from Pands in the future. Try to pass list then rename instead."
   ]
  },
  {
   "cell_type": "code",
   "execution_count": 11,
   "metadata": {},
   "outputs": [
    {
     "data": {
      "text/html": [
       "<style  type=\"text/css\" >\n",
       "</style>  \n",
       "<table id=\"T_c59119d2_1ab4_11e8_8101_74e54394bcc7\" > \n",
       "<thead>    <tr> \n",
       "        <th class=\"blank level0\" ></th> \n",
       "        <th class=\"col_heading level0 col0\" >Purchase Count</th> \n",
       "        <th class=\"col_heading level0 col1\" >Average Purchase Price</th> \n",
       "        <th class=\"col_heading level0 col2\" >Total Purchase Value</th> \n",
       "    </tr>    <tr> \n",
       "        <th class=\"index_name level0\" >Gender</th> \n",
       "        <th class=\"blank\" ></th> \n",
       "        <th class=\"blank\" ></th> \n",
       "        <th class=\"blank\" ></th> \n",
       "    </tr></thead> \n",
       "<tbody>    <tr> \n",
       "        <th id=\"T_c59119d2_1ab4_11e8_8101_74e54394bcc7level0_row0\" class=\"row_heading level0 row0\" >Female</th> \n",
       "        <td id=\"T_c59119d2_1ab4_11e8_8101_74e54394bcc7row0_col0\" class=\"data row0 col0\" >13</td> \n",
       "        <td id=\"T_c59119d2_1ab4_11e8_8101_74e54394bcc7row0_col1\" class=\"data row0 col1\" >$3.18</td> \n",
       "        <td id=\"T_c59119d2_1ab4_11e8_8101_74e54394bcc7row0_col2\" class=\"data row0 col2\" >$41.38</td> \n",
       "    </tr>    <tr> \n",
       "        <th id=\"T_c59119d2_1ab4_11e8_8101_74e54394bcc7level0_row1\" class=\"row_heading level0 row1\" >Male</th> \n",
       "        <td id=\"T_c59119d2_1ab4_11e8_8101_74e54394bcc7row1_col0\" class=\"data row1 col0\" >64</td> \n",
       "        <td id=\"T_c59119d2_1ab4_11e8_8101_74e54394bcc7row1_col1\" class=\"data row1 col1\" >$2.88</td> \n",
       "        <td id=\"T_c59119d2_1ab4_11e8_8101_74e54394bcc7row1_col2\" class=\"data row1 col2\" >$184.60</td> \n",
       "    </tr>    <tr> \n",
       "        <th id=\"T_c59119d2_1ab4_11e8_8101_74e54394bcc7level0_row2\" class=\"row_heading level0 row2\" >Other / Non-Disclosed</th> \n",
       "        <td id=\"T_c59119d2_1ab4_11e8_8101_74e54394bcc7row2_col0\" class=\"data row2 col0\" >1</td> \n",
       "        <td id=\"T_c59119d2_1ab4_11e8_8101_74e54394bcc7row2_col1\" class=\"data row2 col1\" >$2.12</td> \n",
       "        <td id=\"T_c59119d2_1ab4_11e8_8101_74e54394bcc7row2_col2\" class=\"data row2 col2\" >$2.12</td> \n",
       "    </tr></tbody> \n",
       "</table> "
      ],
      "text/plain": [
       "<pandas.io.formats.style.Styler at 0x1d8f89a43c8>"
      ]
     },
     "execution_count": 11,
     "metadata": {},
     "output_type": "execute_result"
    }
   ],
   "source": [
    "df_purchase.groupby('Gender')['Price'].agg(\n",
    "    ['count', 'mean', 'sum']\n",
    ").rename(\n",
    "    columns = {\n",
    "        'count': 'Purchase Count',\n",
    "        'mean': 'Average Purchase Price',\n",
    "        'sum': 'Total Purchase Value'\n",
    "    }\n",
    ").style.format(\n",
    "    {'Average Purchase Price': '${:,.2f}',\n",
    "     'Total Purchase Value': '${:,.2f}',\n",
    "    }\n",
    ")"
   ]
  },
  {
   "cell_type": "markdown",
   "metadata": {},
   "source": [
    "## Age Demographics"
   ]
  },
  {
   "cell_type": "code",
   "execution_count": 12,
   "metadata": {},
   "outputs": [
    {
     "data": {
      "text/plain": [
       "[0, 10, 15, 20, 25, 30, 35, 41]"
      ]
     },
     "execution_count": 12,
     "metadata": {},
     "output_type": "execute_result"
    }
   ],
   "source": [
    "bin_start = 10\n",
    "bins = [0]\n",
    "max_age = df_purchase.Age.max() \n",
    "bins.extend(range(bin_start, max_age, 5))\n",
    "bins.append(max_age + 1)\n",
    "bins"
   ]
  },
  {
   "cell_type": "code",
   "execution_count": 13,
   "metadata": {},
   "outputs": [
    {
     "data": {
      "text/plain": [
       "['< 10', '10-14', '15-19', '20-24', '25-29', '30-34', '35+']"
      ]
     },
     "execution_count": 13,
     "metadata": {},
     "output_type": "execute_result"
    }
   ],
   "source": [
    "labels = ['< ' + str(bin_start)]\n",
    "for i in range(1, len(bins) - 2):\n",
    "    labels.append('{}-{}'.format(bins[i], bins[i+1] -1))\n",
    "labels.append(str(bins[-2]) + '+')\n",
    "labels"
   ]
  },
  {
   "cell_type": "code",
   "execution_count": 14,
   "metadata": {
    "collapsed": true
   },
   "outputs": [],
   "source": [
    "df_purchase.loc[:, 'Bined Age'] = pd.cut(df_purchase['Age'], bins=bins, labels=labels)"
   ]
  },
  {
   "cell_type": "code",
   "execution_count": 15,
   "metadata": {},
   "outputs": [
    {
     "data": {
      "text/html": [
       "<style  type=\"text/css\" >\n",
       "</style>  \n",
       "<table id=\"T_c5b6cade_1ab4_11e8_b9fb_74e54394bcc7\" > \n",
       "<thead>    <tr> \n",
       "        <th class=\"blank level0\" ></th> \n",
       "        <th class=\"col_heading level0 col0\" >Total Count</th> \n",
       "        <th class=\"col_heading level0 col1\" >Percenage of Players</th> \n",
       "    </tr>    <tr> \n",
       "        <th class=\"index_name level0\" >Bined Age</th> \n",
       "        <th class=\"blank\" ></th> \n",
       "        <th class=\"blank\" ></th> \n",
       "    </tr></thead> \n",
       "<tbody>    <tr> \n",
       "        <th id=\"T_c5b6cade_1ab4_11e8_b9fb_74e54394bcc7level0_row0\" class=\"row_heading level0 row0\" >< 10</th> \n",
       "        <td id=\"T_c5b6cade_1ab4_11e8_b9fb_74e54394bcc7row0_col0\" class=\"data row0 col0\" >5</td> \n",
       "        <td id=\"T_c5b6cade_1ab4_11e8_b9fb_74e54394bcc7row0_col1\" class=\"data row0 col1\" >6.76%</td> \n",
       "    </tr>    <tr> \n",
       "        <th id=\"T_c5b6cade_1ab4_11e8_b9fb_74e54394bcc7level0_row1\" class=\"row_heading level0 row1\" >10-14</th> \n",
       "        <td id=\"T_c5b6cade_1ab4_11e8_b9fb_74e54394bcc7row1_col0\" class=\"data row1 col0\" >4</td> \n",
       "        <td id=\"T_c5b6cade_1ab4_11e8_b9fb_74e54394bcc7row1_col1\" class=\"data row1 col1\" >5.41%</td> \n",
       "    </tr>    <tr> \n",
       "        <th id=\"T_c5b6cade_1ab4_11e8_b9fb_74e54394bcc7level0_row2\" class=\"row_heading level0 row2\" >15-19</th> \n",
       "        <td id=\"T_c5b6cade_1ab4_11e8_b9fb_74e54394bcc7row2_col0\" class=\"data row2 col0\" >20</td> \n",
       "        <td id=\"T_c5b6cade_1ab4_11e8_b9fb_74e54394bcc7row2_col1\" class=\"data row2 col1\" >27.03%</td> \n",
       "    </tr>    <tr> \n",
       "        <th id=\"T_c5b6cade_1ab4_11e8_b9fb_74e54394bcc7level0_row3\" class=\"row_heading level0 row3\" >20-24</th> \n",
       "        <td id=\"T_c5b6cade_1ab4_11e8_b9fb_74e54394bcc7row3_col0\" class=\"data row3 col0\" >30</td> \n",
       "        <td id=\"T_c5b6cade_1ab4_11e8_b9fb_74e54394bcc7row3_col1\" class=\"data row3 col1\" >40.54%</td> \n",
       "    </tr>    <tr> \n",
       "        <th id=\"T_c5b6cade_1ab4_11e8_b9fb_74e54394bcc7level0_row4\" class=\"row_heading level0 row4\" >25-29</th> \n",
       "        <td id=\"T_c5b6cade_1ab4_11e8_b9fb_74e54394bcc7row4_col0\" class=\"data row4 col0\" >4</td> \n",
       "        <td id=\"T_c5b6cade_1ab4_11e8_b9fb_74e54394bcc7row4_col1\" class=\"data row4 col1\" >5.41%</td> \n",
       "    </tr>    <tr> \n",
       "        <th id=\"T_c5b6cade_1ab4_11e8_b9fb_74e54394bcc7level0_row5\" class=\"row_heading level0 row5\" >30-34</th> \n",
       "        <td id=\"T_c5b6cade_1ab4_11e8_b9fb_74e54394bcc7row5_col0\" class=\"data row5 col0\" >6</td> \n",
       "        <td id=\"T_c5b6cade_1ab4_11e8_b9fb_74e54394bcc7row5_col1\" class=\"data row5 col1\" >8.11%</td> \n",
       "    </tr>    <tr> \n",
       "        <th id=\"T_c5b6cade_1ab4_11e8_b9fb_74e54394bcc7level0_row6\" class=\"row_heading level0 row6\" >35+</th> \n",
       "        <td id=\"T_c5b6cade_1ab4_11e8_b9fb_74e54394bcc7row6_col0\" class=\"data row6 col0\" >5</td> \n",
       "        <td id=\"T_c5b6cade_1ab4_11e8_b9fb_74e54394bcc7row6_col1\" class=\"data row6 col1\" >6.76%</td> \n",
       "    </tr></tbody> \n",
       "</table> "
      ],
      "text/plain": [
       "<pandas.io.formats.style.Styler at 0x1d8f89a4ef0>"
      ]
     },
     "execution_count": 15,
     "metadata": {},
     "output_type": "execute_result"
    }
   ],
   "source": [
    "df_age_demographics = DataFrame(\n",
    "    df_purchase.groupby('Bined Age')['SN'].unique()\n",
    ").assign(\n",
    "    cnt = lambda x: x['SN'].map(len)\n",
    ").assign(\n",
    "    perc=lambda x: x['cnt'] / len(df_purchase['SN'].unique())\n",
    ").drop(\n",
    "    'SN', axis=1\n",
    ").rename(\n",
    "    columns = {\n",
    "        'cnt': 'Total Count',\n",
    "        'perc': 'Percenage of Players'\n",
    "    }\n",
    ")\n",
    "\n",
    "df_age_demographics.style.format(\n",
    "    {\n",
    "      'Percenage of Players': '{:.2%}' \n",
    "    }\n",
    ")\n",
    "    "
   ]
  },
  {
   "cell_type": "code",
   "execution_count": 16,
   "metadata": {
    "scrolled": true
   },
   "outputs": [
    {
     "data": {
      "image/png": "[encoded data removed]",
      "text/plain": [
       "<matplotlib.figure.Figure at 0x1d8f7c5cd68>"
      ]
     },
     "metadata": {},
     "output_type": "display_data"
    }
   ],
   "source": [
    "df_age_demographics['Total Count'].plot.bar()\n",
    "plt.show()"
   ]
  },
  {
   "cell_type": "markdown",
   "metadata": {},
   "source": [
    "## Purchasing Analysis (Age)"
   ]
  },
  {
   "cell_type": "code",
   "execution_count": 17,
   "metadata": {
    "scrolled": true
   },
   "outputs": [
    {
     "data": {
      "text/html": [
       "<style  type=\"text/css\" >\n",
       "</style>  \n",
       "<table id=\"T_c5dacdf8_1ab4_11e8_8f65_74e54394bcc7\" > \n",
       "<thead>    <tr> \n",
       "        <th class=\"blank level0\" ></th> \n",
       "        <th class=\"col_heading level0 col0\" >Purchase Count</th> \n",
       "        <th class=\"col_heading level0 col1\" >Average Purchase Price</th> \n",
       "        <th class=\"col_heading level0 col2\" >Total Purchase Value</th> \n",
       "    </tr>    <tr> \n",
       "        <th class=\"index_name level0\" >Bined Age</th> \n",
       "        <th class=\"blank\" ></th> \n",
       "        <th class=\"blank\" ></th> \n",
       "        <th class=\"blank\" ></th> \n",
       "    </tr></thead> \n",
       "<tbody>    <tr> \n",
       "        <th id=\"T_c5dacdf8_1ab4_11e8_8f65_74e54394bcc7level0_row0\" class=\"row_heading level0 row0\" >< 10</th> \n",
       "        <td id=\"T_c5dacdf8_1ab4_11e8_8f65_74e54394bcc7row0_col0\" class=\"data row0 col0\" >5</td> \n",
       "        <td id=\"T_c5dacdf8_1ab4_11e8_8f65_74e54394bcc7row0_col1\" class=\"data row0 col1\" >$2.76</td> \n",
       "        <td id=\"T_c5dacdf8_1ab4_11e8_8f65_74e54394bcc7row0_col2\" class=\"data row0 col2\" >$13.82</td> \n",
       "    </tr>    <tr> \n",
       "        <th id=\"T_c5dacdf8_1ab4_11e8_8f65_74e54394bcc7level0_row1\" class=\"row_heading level0 row1\" >10-14</th> \n",
       "        <td id=\"T_c5dacdf8_1ab4_11e8_8f65_74e54394bcc7row1_col0\" class=\"data row1 col0\" >4</td> \n",
       "        <td id=\"T_c5dacdf8_1ab4_11e8_8f65_74e54394bcc7row1_col1\" class=\"data row1 col1\" >$3.05</td> \n",
       "        <td id=\"T_c5dacdf8_1ab4_11e8_8f65_74e54394bcc7row1_col2\" class=\"data row1 col2\" >$12.21</td> \n",
       "    </tr>    <tr> \n",
       "        <th id=\"T_c5dacdf8_1ab4_11e8_8f65_74e54394bcc7level0_row2\" class=\"row_heading level0 row2\" >15-19</th> \n",
       "        <td id=\"T_c5dacdf8_1ab4_11e8_8f65_74e54394bcc7row2_col0\" class=\"data row2 col0\" >20</td> \n",
       "        <td id=\"T_c5dacdf8_1ab4_11e8_8f65_74e54394bcc7row2_col1\" class=\"data row2 col1\" >$2.73</td> \n",
       "        <td id=\"T_c5dacdf8_1ab4_11e8_8f65_74e54394bcc7row2_col2\" class=\"data row2 col2\" >$54.69</td> \n",
       "    </tr>    <tr> \n",
       "        <th id=\"T_c5dacdf8_1ab4_11e8_8f65_74e54394bcc7level0_row3\" class=\"row_heading level0 row3\" >20-24</th> \n",
       "        <td id=\"T_c5dacdf8_1ab4_11e8_8f65_74e54394bcc7row3_col0\" class=\"data row3 col0\" >33</td> \n",
       "        <td id=\"T_c5dacdf8_1ab4_11e8_8f65_74e54394bcc7row3_col1\" class=\"data row3 col1\" >$3.04</td> \n",
       "        <td id=\"T_c5dacdf8_1ab4_11e8_8f65_74e54394bcc7row3_col2\" class=\"data row3 col2\" >$100.42</td> \n",
       "    </tr>    <tr> \n",
       "        <th id=\"T_c5dacdf8_1ab4_11e8_8f65_74e54394bcc7level0_row4\" class=\"row_heading level0 row4\" >25-29</th> \n",
       "        <td id=\"T_c5dacdf8_1ab4_11e8_8f65_74e54394bcc7row4_col0\" class=\"data row4 col0\" >4</td> \n",
       "        <td id=\"T_c5dacdf8_1ab4_11e8_8f65_74e54394bcc7row4_col1\" class=\"data row4 col1\" >$2.69</td> \n",
       "        <td id=\"T_c5dacdf8_1ab4_11e8_8f65_74e54394bcc7row4_col2\" class=\"data row4 col2\" >$10.77</td> \n",
       "    </tr>    <tr> \n",
       "        <th id=\"T_c5dacdf8_1ab4_11e8_8f65_74e54394bcc7level0_row5\" class=\"row_heading level0 row5\" >30-34</th> \n",
       "        <td id=\"T_c5dacdf8_1ab4_11e8_8f65_74e54394bcc7row5_col0\" class=\"data row5 col0\" >7</td> \n",
       "        <td id=\"T_c5dacdf8_1ab4_11e8_8f65_74e54394bcc7row5_col1\" class=\"data row5 col1\" >$2.35</td> \n",
       "        <td id=\"T_c5dacdf8_1ab4_11e8_8f65_74e54394bcc7row5_col2\" class=\"data row5 col2\" >$16.47</td> \n",
       "    </tr>    <tr> \n",
       "        <th id=\"T_c5dacdf8_1ab4_11e8_8f65_74e54394bcc7level0_row6\" class=\"row_heading level0 row6\" >35+</th> \n",
       "        <td id=\"T_c5dacdf8_1ab4_11e8_8f65_74e54394bcc7row6_col0\" class=\"data row6 col0\" >5</td> \n",
       "        <td id=\"T_c5dacdf8_1ab4_11e8_8f65_74e54394bcc7row6_col1\" class=\"data row6 col1\" >$3.94</td> \n",
       "        <td id=\"T_c5dacdf8_1ab4_11e8_8f65_74e54394bcc7row6_col2\" class=\"data row6 col2\" >$19.72</td> \n",
       "    </tr></tbody> \n",
       "</table> "
      ],
      "text/plain": [
       "<pandas.io.formats.style.Styler at 0x1d8f8750e10>"
      ]
     },
     "execution_count": 17,
     "metadata": {},
     "output_type": "execute_result"
    }
   ],
   "source": [
    "df_purchase.groupby('Bined Age')['Price'].agg(\n",
    "    ['count', 'mean', 'sum']\n",
    ").rename(\n",
    "    columns = {\n",
    "        'count': 'Purchase Count',\n",
    "        'mean': 'Average Purchase Price',\n",
    "        'sum': 'Total Purchase Value'\n",
    "    }\n",
    ").style.format(\n",
    "    {\n",
    "        'Average Purchase Price': '${:,.2f}',\n",
    "        'Total Purchase Value': '${:,.2f}',\n",
    "    }\n",
    ")"
   ]
  },
  {
   "cell_type": "markdown",
   "metadata": {},
   "source": [
    "## Top Spenders"
   ]
  },
  {
   "cell_type": "code",
   "execution_count": 18,
   "metadata": {},
   "outputs": [
    {
     "data": {
      "text/html": [
       "<style  type=\"text/css\" >\n",
       "</style>  \n",
       "<table id=\"T_c5e30b86_1ab4_11e8_8913_74e54394bcc7\" > \n",
       "<thead>    <tr> \n",
       "        <th class=\"blank level0\" ></th> \n",
       "        <th class=\"col_heading level0 col0\" >Purchase Count</th> \n",
       "        <th class=\"col_heading level0 col1\" >Average Purchase Price</th> \n",
       "        <th class=\"col_heading level0 col2\" >Total Purchase Value</th> \n",
       "    </tr>    <tr> \n",
       "        <th class=\"index_name level0\" >SN</th> \n",
       "        <th class=\"blank\" ></th> \n",
       "        <th class=\"blank\" ></th> \n",
       "        <th class=\"blank\" ></th> \n",
       "    </tr></thead> \n",
       "<tbody>    <tr> \n",
       "        <th id=\"T_c5e30b86_1ab4_11e8_8913_74e54394bcc7level0_row0\" class=\"row_heading level0 row0\" >Sundaky74</th> \n",
       "        <td id=\"T_c5e30b86_1ab4_11e8_8913_74e54394bcc7row0_col0\" class=\"data row0 col0\" >2</td> \n",
       "        <td id=\"T_c5e30b86_1ab4_11e8_8913_74e54394bcc7row0_col1\" class=\"data row0 col1\" >$3.71</td> \n",
       "        <td id=\"T_c5e30b86_1ab4_11e8_8913_74e54394bcc7row0_col2\" class=\"data row0 col2\" >$7.41</td> \n",
       "    </tr>    <tr> \n",
       "        <th id=\"T_c5e30b86_1ab4_11e8_8913_74e54394bcc7level0_row1\" class=\"row_heading level0 row1\" >Aidaira26</th> \n",
       "        <td id=\"T_c5e30b86_1ab4_11e8_8913_74e54394bcc7row1_col0\" class=\"data row1 col0\" >2</td> \n",
       "        <td id=\"T_c5e30b86_1ab4_11e8_8913_74e54394bcc7row1_col1\" class=\"data row1 col1\" >$2.56</td> \n",
       "        <td id=\"T_c5e30b86_1ab4_11e8_8913_74e54394bcc7row1_col2\" class=\"data row1 col2\" >$5.13</td> \n",
       "    </tr>    <tr> \n",
       "        <th id=\"T_c5e30b86_1ab4_11e8_8913_74e54394bcc7level0_row2\" class=\"row_heading level0 row2\" >Eusty71</th> \n",
       "        <td id=\"T_c5e30b86_1ab4_11e8_8913_74e54394bcc7row2_col0\" class=\"data row2 col0\" >1</td> \n",
       "        <td id=\"T_c5e30b86_1ab4_11e8_8913_74e54394bcc7row2_col1\" class=\"data row2 col1\" >$4.81</td> \n",
       "        <td id=\"T_c5e30b86_1ab4_11e8_8913_74e54394bcc7row2_col2\" class=\"data row2 col2\" >$4.81</td> \n",
       "    </tr>    <tr> \n",
       "        <th id=\"T_c5e30b86_1ab4_11e8_8913_74e54394bcc7level0_row3\" class=\"row_heading level0 row3\" >Chanirra64</th> \n",
       "        <td id=\"T_c5e30b86_1ab4_11e8_8913_74e54394bcc7row3_col0\" class=\"data row3 col0\" >1</td> \n",
       "        <td id=\"T_c5e30b86_1ab4_11e8_8913_74e54394bcc7row3_col1\" class=\"data row3 col1\" >$4.78</td> \n",
       "        <td id=\"T_c5e30b86_1ab4_11e8_8913_74e54394bcc7row3_col2\" class=\"data row3 col2\" >$4.78</td> \n",
       "    </tr>    <tr> \n",
       "        <th id=\"T_c5e30b86_1ab4_11e8_8913_74e54394bcc7level0_row4\" class=\"row_heading level0 row4\" >Alarap40</th> \n",
       "        <td id=\"T_c5e30b86_1ab4_11e8_8913_74e54394bcc7row4_col0\" class=\"data row4 col0\" >1</td> \n",
       "        <td id=\"T_c5e30b86_1ab4_11e8_8913_74e54394bcc7row4_col1\" class=\"data row4 col1\" >$4.71</td> \n",
       "        <td id=\"T_c5e30b86_1ab4_11e8_8913_74e54394bcc7row4_col2\" class=\"data row4 col2\" >$4.71</td> \n",
       "    </tr></tbody> \n",
       "</table> "
      ],
      "text/plain": [
       "<pandas.io.formats.style.Styler at 0x1d8f876b128>"
      ]
     },
     "execution_count": 18,
     "metadata": {},
     "output_type": "execute_result"
    }
   ],
   "source": [
    "df_purchase.groupby('SN')['Price'].agg(\n",
    "    ['count', 'mean', 'sum']\n",
    ").sort_values(\n",
    "    by='sum', \n",
    "    ascending=False\n",
    ").rename(\n",
    "    columns={\n",
    "        'count': 'Purchase Count',\n",
    "        'mean': 'Average Purchase Price',\n",
    "        'sum': 'Total Purchase Value'\n",
    "    }\n",
    ").head(5).style.format(\n",
    "    {\n",
    "        'Average Purchase Price': '${:,.2f}',\n",
    "         'Total Purchase Value': '${:,.2f}',\n",
    "    }\n",
    ")"
   ]
  },
  {
   "cell_type": "markdown",
   "metadata": {},
   "source": [
    "## Most Popular Items"
   ]
  },
  {
   "cell_type": "code",
   "execution_count": 19,
   "metadata": {},
   "outputs": [
    {
     "data": {
      "text/html": [
       "<style  type=\"text/css\" >\n",
       "</style>  \n",
       "<table id=\"T_c5ed92fa_1ab4_11e8_bc86_74e54394bcc7\" > \n",
       "<thead>    <tr> \n",
       "        <th class=\"blank\" ></th> \n",
       "        <th class=\"blank level0\" ></th> \n",
       "        <th class=\"col_heading level0 col0\" >Purchase Count</th> \n",
       "        <th class=\"col_heading level0 col1\" >Average Purchase Price</th> \n",
       "        <th class=\"col_heading level0 col2\" >Total Purchase Value</th> \n",
       "    </tr>    <tr> \n",
       "        <th class=\"index_name level0\" >Item ID</th> \n",
       "        <th class=\"index_name level1\" >Item Name</th> \n",
       "        <th class=\"blank\" ></th> \n",
       "        <th class=\"blank\" ></th> \n",
       "        <th class=\"blank\" ></th> \n",
       "    </tr></thead> \n",
       "<tbody>    <tr> \n",
       "        <th id=\"T_c5ed92fa_1ab4_11e8_bc86_74e54394bcc7level0_row0\" class=\"row_heading level0 row0\" >94</th> \n",
       "        <th id=\"T_c5ed92fa_1ab4_11e8_bc86_74e54394bcc7level1_row0\" class=\"row_heading level1 row0\" >Mourning Blade</th> \n",
       "        <td id=\"T_c5ed92fa_1ab4_11e8_bc86_74e54394bcc7row0_col0\" class=\"data row0 col0\" >3</td> \n",
       "        <td id=\"T_c5ed92fa_1ab4_11e8_bc86_74e54394bcc7row0_col1\" class=\"data row0 col1\" >$3.64</td> \n",
       "        <td id=\"T_c5ed92fa_1ab4_11e8_bc86_74e54394bcc7row0_col2\" class=\"data row0 col2\" >$10.92</td> \n",
       "    </tr>    <tr> \n",
       "        <th id=\"T_c5ed92fa_1ab4_11e8_bc86_74e54394bcc7level0_row1\" class=\"row_heading level0 row1\" >90</th> \n",
       "        <th id=\"T_c5ed92fa_1ab4_11e8_bc86_74e54394bcc7level1_row1\" class=\"row_heading level1 row1\" >Betrayer</th> \n",
       "        <td id=\"T_c5ed92fa_1ab4_11e8_bc86_74e54394bcc7row1_col0\" class=\"data row1 col0\" >2</td> \n",
       "        <td id=\"T_c5ed92fa_1ab4_11e8_bc86_74e54394bcc7row1_col1\" class=\"data row1 col1\" >$4.12</td> \n",
       "        <td id=\"T_c5ed92fa_1ab4_11e8_bc86_74e54394bcc7row1_col2\" class=\"data row1 col2\" >$8.24</td> \n",
       "    </tr>    <tr> \n",
       "        <th id=\"T_c5ed92fa_1ab4_11e8_bc86_74e54394bcc7level0_row2\" class=\"row_heading level0 row2\" >111</th> \n",
       "        <th id=\"T_c5ed92fa_1ab4_11e8_bc86_74e54394bcc7level1_row2\" class=\"row_heading level1 row2\" >Misery's End</th> \n",
       "        <td id=\"T_c5ed92fa_1ab4_11e8_bc86_74e54394bcc7row2_col0\" class=\"data row2 col0\" >2</td> \n",
       "        <td id=\"T_c5ed92fa_1ab4_11e8_bc86_74e54394bcc7row2_col1\" class=\"data row2 col1\" >$1.79</td> \n",
       "        <td id=\"T_c5ed92fa_1ab4_11e8_bc86_74e54394bcc7row2_col2\" class=\"data row2 col2\" >$3.58</td> \n",
       "    </tr>    <tr> \n",
       "        <th id=\"T_c5ed92fa_1ab4_11e8_bc86_74e54394bcc7level0_row3\" class=\"row_heading level0 row3\" >64</th> \n",
       "        <th id=\"T_c5ed92fa_1ab4_11e8_bc86_74e54394bcc7level1_row3\" class=\"row_heading level1 row3\" >Fusion Pummel</th> \n",
       "        <td id=\"T_c5ed92fa_1ab4_11e8_bc86_74e54394bcc7row3_col0\" class=\"data row3 col0\" >2</td> \n",
       "        <td id=\"T_c5ed92fa_1ab4_11e8_bc86_74e54394bcc7row3_col1\" class=\"data row3 col1\" >$2.42</td> \n",
       "        <td id=\"T_c5ed92fa_1ab4_11e8_bc86_74e54394bcc7row3_col2\" class=\"data row3 col2\" >$4.84</td> \n",
       "    </tr>    <tr> \n",
       "        <th id=\"T_c5ed92fa_1ab4_11e8_bc86_74e54394bcc7level0_row4\" class=\"row_heading level0 row4\" >154</th> \n",
       "        <th id=\"T_c5ed92fa_1ab4_11e8_bc86_74e54394bcc7level1_row4\" class=\"row_heading level1 row4\" >Feral Katana</th> \n",
       "        <td id=\"T_c5ed92fa_1ab4_11e8_bc86_74e54394bcc7row4_col0\" class=\"data row4 col0\" >2</td> \n",
       "        <td id=\"T_c5ed92fa_1ab4_11e8_bc86_74e54394bcc7row4_col1\" class=\"data row4 col1\" >$4.11</td> \n",
       "        <td id=\"T_c5ed92fa_1ab4_11e8_bc86_74e54394bcc7row4_col2\" class=\"data row4 col2\" >$8.22</td> \n",
       "    </tr></tbody> \n",
       "</table> "
      ],
      "text/plain": [
       "<pandas.io.formats.style.Styler at 0x1d8f8776d68>"
      ]
     },
     "execution_count": 19,
     "metadata": {},
     "output_type": "execute_result"
    }
   ],
   "source": [
    "df_purchase.groupby(['Item ID', 'Item Name'])['Price'].agg(\n",
    "    ['count', 'mean', 'sum']\n",
    ").sort_values(\n",
    "    by='count', \n",
    "    ascending=False\n",
    ").rename(\n",
    "    columns={\n",
    "        'count': 'Purchase Count',\n",
    "        'mean': 'Average Purchase Price',\n",
    "        'sum': 'Total Purchase Value'\n",
    "    }\n",
    ").head(5).style.format(\n",
    "    {\n",
    "        'Average Purchase Price': '${:,.2f}',\n",
    "         'Total Purchase Value': '${:,.2f}',\n",
    "    }\n",
    ")"
   ]
  },
  {
   "cell_type": "markdown",
   "metadata": {
    "collapsed": true
   },
   "source": [
    "## Most Porfitable Items"
   ]
  },
  {
   "cell_type": "code",
   "execution_count": 20,
   "metadata": {},
   "outputs": [
    {
     "data": {
      "text/html": [
       "<style  type=\"text/css\" >\n",
       "</style>  \n",
       "<table id=\"T_c5f868ae_1ab4_11e8_bd55_74e54394bcc7\" > \n",
       "<thead>    <tr> \n",
       "        <th class=\"blank\" ></th> \n",
       "        <th class=\"blank level0\" ></th> \n",
       "        <th class=\"col_heading level0 col0\" >Purchase Count</th> \n",
       "        <th class=\"col_heading level0 col1\" >Average Purchase Price</th> \n",
       "        <th class=\"col_heading level0 col2\" >Total Purchase Value</th> \n",
       "    </tr>    <tr> \n",
       "        <th class=\"index_name level0\" >Item ID</th> \n",
       "        <th class=\"index_name level1\" >Item Name</th> \n",
       "        <th class=\"blank\" ></th> \n",
       "        <th class=\"blank\" ></th> \n",
       "        <th class=\"blank\" ></th> \n",
       "    </tr></thead> \n",
       "<tbody>    <tr> \n",
       "        <th id=\"T_c5f868ae_1ab4_11e8_bd55_74e54394bcc7level0_row0\" class=\"row_heading level0 row0\" >94</th> \n",
       "        <th id=\"T_c5f868ae_1ab4_11e8_bd55_74e54394bcc7level1_row0\" class=\"row_heading level1 row0\" >Mourning Blade</th> \n",
       "        <td id=\"T_c5f868ae_1ab4_11e8_bd55_74e54394bcc7row0_col0\" class=\"data row0 col0\" >3</td> \n",
       "        <td id=\"T_c5f868ae_1ab4_11e8_bd55_74e54394bcc7row0_col1\" class=\"data row0 col1\" >$3.64</td> \n",
       "        <td id=\"T_c5f868ae_1ab4_11e8_bd55_74e54394bcc7row0_col2\" class=\"data row0 col2\" >$10.92</td> \n",
       "    </tr>    <tr> \n",
       "        <th id=\"T_c5f868ae_1ab4_11e8_bd55_74e54394bcc7level0_row1\" class=\"row_heading level0 row1\" >117</th> \n",
       "        <th id=\"T_c5f868ae_1ab4_11e8_bd55_74e54394bcc7level1_row1\" class=\"row_heading level1 row1\" >Heartstriker, Legacy of the Light</th> \n",
       "        <td id=\"T_c5f868ae_1ab4_11e8_bd55_74e54394bcc7row1_col0\" class=\"data row1 col0\" >2</td> \n",
       "        <td id=\"T_c5f868ae_1ab4_11e8_bd55_74e54394bcc7row1_col1\" class=\"data row1 col1\" >$4.71</td> \n",
       "        <td id=\"T_c5f868ae_1ab4_11e8_bd55_74e54394bcc7row1_col2\" class=\"data row1 col2\" >$9.42</td> \n",
       "    </tr>    <tr> \n",
       "        <th id=\"T_c5f868ae_1ab4_11e8_bd55_74e54394bcc7level0_row2\" class=\"row_heading level0 row2\" >93</th> \n",
       "        <th id=\"T_c5f868ae_1ab4_11e8_bd55_74e54394bcc7level1_row2\" class=\"row_heading level1 row2\" >Apocalyptic Battlescythe</th> \n",
       "        <td id=\"T_c5f868ae_1ab4_11e8_bd55_74e54394bcc7row2_col0\" class=\"data row2 col0\" >2</td> \n",
       "        <td id=\"T_c5f868ae_1ab4_11e8_bd55_74e54394bcc7row2_col1\" class=\"data row2 col1\" >$4.49</td> \n",
       "        <td id=\"T_c5f868ae_1ab4_11e8_bd55_74e54394bcc7row2_col2\" class=\"data row2 col2\" >$8.98</td> \n",
       "    </tr>    <tr> \n",
       "        <th id=\"T_c5f868ae_1ab4_11e8_bd55_74e54394bcc7level0_row3\" class=\"row_heading level0 row3\" >90</th> \n",
       "        <th id=\"T_c5f868ae_1ab4_11e8_bd55_74e54394bcc7level1_row3\" class=\"row_heading level1 row3\" >Betrayer</th> \n",
       "        <td id=\"T_c5f868ae_1ab4_11e8_bd55_74e54394bcc7row3_col0\" class=\"data row3 col0\" >2</td> \n",
       "        <td id=\"T_c5f868ae_1ab4_11e8_bd55_74e54394bcc7row3_col1\" class=\"data row3 col1\" >$4.12</td> \n",
       "        <td id=\"T_c5f868ae_1ab4_11e8_bd55_74e54394bcc7row3_col2\" class=\"data row3 col2\" >$8.24</td> \n",
       "    </tr>    <tr> \n",
       "        <th id=\"T_c5f868ae_1ab4_11e8_bd55_74e54394bcc7level0_row4\" class=\"row_heading level0 row4\" >154</th> \n",
       "        <th id=\"T_c5f868ae_1ab4_11e8_bd55_74e54394bcc7level1_row4\" class=\"row_heading level1 row4\" >Feral Katana</th> \n",
       "        <td id=\"T_c5f868ae_1ab4_11e8_bd55_74e54394bcc7row4_col0\" class=\"data row4 col0\" >2</td> \n",
       "        <td id=\"T_c5f868ae_1ab4_11e8_bd55_74e54394bcc7row4_col1\" class=\"data row4 col1\" >$4.11</td> \n",
       "        <td id=\"T_c5f868ae_1ab4_11e8_bd55_74e54394bcc7row4_col2\" class=\"data row4 col2\" >$8.22</td> \n",
       "    </tr></tbody> \n",
       "</table> "
      ],
      "text/plain": [
       "<pandas.io.formats.style.Styler at 0x1d8f87767b8>"
      ]
     },
     "execution_count": 20,
     "metadata": {},
     "output_type": "execute_result"
    }
   ],
   "source": [
    "df_purchase.groupby(['Item ID', 'Item Name'])['Price'].agg(\n",
    "    ['count', 'mean', 'sum']\n",
    ").sort_values(\n",
    "    by='sum', \n",
    "    ascending=False\n",
    ").rename(\n",
    "    columns={\n",
    "        'count': 'Purchase Count',\n",
    "        'mean': 'Average Purchase Price',\n",
    "        'sum': 'Total Purchase Value'\n",
    "    }\n",
    ").head(5).style.format(\n",
    "    {\n",
    "        'Average Purchase Price': '${:,.2f}',\n",
    "         'Total Purchase Value': '${:,.2f}',\n",
    "    }\n",
    ")"
   ]
  }
 ],
 "metadata": {
  "kernelspec": {
   "display_name": "Python 3",
   "language": "python",
   "name": "python3"
  },
  "language_info": {
   "codemirror_mode": {
    "name": "ipython",
    "version": 3
   },
   "file_extension": ".py",
   "mimetype": "text/x-python",
   "name": "python",
   "nbconvert_exporter": "python",
   "pygments_lexer": "ipython3",
   "version": "3.6.3"
  }
 },
 "nbformat": 4,
 "nbformat_minor": 2
}
