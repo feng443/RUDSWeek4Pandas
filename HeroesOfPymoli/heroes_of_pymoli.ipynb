{
 "cells": [
  {
   "cell_type": "markdown",
   "metadata": {},
   "source": [
    "# Exploring Data Analsis of Purchase Data"
   ]
  },
  {
   "cell_type": "markdown",
   "metadata": {},
   "source": [
    "## Trends\n",
    "1. Majority of players are male\n",
    "2. Majority of purchaes are made by players between 15 to 24 \n",
    "3. Most items are only purchased once based on the data file. This might not be true if the data is just a sample.\n",
    "4. Plyer age distribution is close to normal but slightly right skewed"
   ]
  },
  {
   "cell_type": "code",
   "execution_count": 340,
   "metadata": {
    "collapsed": true
   },
   "outputs": [],
   "source": [
    "import os\n",
    "from pandas import Series, DataFrame\n",
    "import pandas as pd\n",
    "import matplotlib.pyplot as plt"
   ]
  },
  {
   "cell_type": "markdown",
   "metadata": {},
   "source": [
    "## Load to DataFrame"
   ]
  },
  {
   "cell_type": "code",
   "execution_count": 308,
   "metadata": {},
   "outputs": [
    {
     "name": "stdout",
     "output_type": "stream",
     "text": [
      "What's the input file?purchase_data.json\n"
     ]
    }
   ],
   "source": [
    "DATA_PATH = '.'\n",
    "file = input(\"What's the input file?\")\n",
    "full_path = os.path.join(DATA_PATH, file)\n",
    "df_purchase = pd.read_json(full_path)"
   ]
  },
  {
   "cell_type": "markdown",
   "metadata": {
    "collapsed": true
   },
   "source": [
    "## Take a look at data"
   ]
  },
  {
   "cell_type": "code",
   "execution_count": 309,
   "metadata": {},
   "outputs": [
    {
     "data": {
      "text/plain": [
       "Index(['Age', 'Gender', 'Item ID', 'Item Name', 'Price', 'SN'], dtype='object')"
      ]
     },
     "execution_count": 309,
     "metadata": {},
     "output_type": "execute_result"
    }
   ],
   "source": [
    "df_purchase.columns"
   ]
  },
  {
   "cell_type": "code",
   "execution_count": 310,
   "metadata": {
    "scrolled": true
   },
   "outputs": [
    {
     "data": {
      "text/html": [
       "<div>\n",
       "<style>\n",
       "    .dataframe thead tr:only-child th {\n",
       "        text-align: right;\n",
       "    }\n",
       "\n",
       "    .dataframe thead th {\n",
       "        text-align: left;\n",
       "    }\n",
       "\n",
       "    .dataframe tbody tr th {\n",
       "        vertical-align: top;\n",
       "    }\n",
       "</style>\n",
       "<table border=\"1\" class=\"dataframe\">\n",
       "  <thead>\n",
       "    <tr style=\"text-align: right;\">\n",
       "      <th></th>\n",
       "      <th>Age</th>\n",
       "      <th>Gender</th>\n",
       "      <th>Item ID</th>\n",
       "      <th>Item Name</th>\n",
       "      <th>Price</th>\n",
       "      <th>SN</th>\n",
       "    </tr>\n",
       "  </thead>\n",
       "  <tbody>\n",
       "    <tr>\n",
       "      <th>0</th>\n",
       "      <td>38</td>\n",
       "      <td>Male</td>\n",
       "      <td>165</td>\n",
       "      <td>Bone Crushing Silver Skewer</td>\n",
       "      <td>3.37</td>\n",
       "      <td>Aelalis34</td>\n",
       "    </tr>\n",
       "    <tr>\n",
       "      <th>1</th>\n",
       "      <td>21</td>\n",
       "      <td>Male</td>\n",
       "      <td>119</td>\n",
       "      <td>Stormbringer, Dark Blade of Ending Misery</td>\n",
       "      <td>2.32</td>\n",
       "      <td>Eolo46</td>\n",
       "    </tr>\n",
       "    <tr>\n",
       "      <th>2</th>\n",
       "      <td>34</td>\n",
       "      <td>Male</td>\n",
       "      <td>174</td>\n",
       "      <td>Primitive Blade</td>\n",
       "      <td>2.46</td>\n",
       "      <td>Assastnya25</td>\n",
       "    </tr>\n",
       "    <tr>\n",
       "      <th>3</th>\n",
       "      <td>21</td>\n",
       "      <td>Male</td>\n",
       "      <td>92</td>\n",
       "      <td>Final Critic</td>\n",
       "      <td>1.36</td>\n",
       "      <td>Pheusrical25</td>\n",
       "    </tr>\n",
       "    <tr>\n",
       "      <th>4</th>\n",
       "      <td>23</td>\n",
       "      <td>Male</td>\n",
       "      <td>63</td>\n",
       "      <td>Stormfury Mace</td>\n",
       "      <td>1.27</td>\n",
       "      <td>Aela59</td>\n",
       "    </tr>\n",
       "  </tbody>\n",
       "</table>\n",
       "</div>"
      ],
      "text/plain": [
       "   Age Gender  Item ID                                  Item Name  Price  \\\n",
       "0   38   Male      165                Bone Crushing Silver Skewer   3.37   \n",
       "1   21   Male      119  Stormbringer, Dark Blade of Ending Misery   2.32   \n",
       "2   34   Male      174                            Primitive Blade   2.46   \n",
       "3   21   Male       92                               Final Critic   1.36   \n",
       "4   23   Male       63                             Stormfury Mace   1.27   \n",
       "\n",
       "             SN  \n",
       "0     Aelalis34  \n",
       "1        Eolo46  \n",
       "2   Assastnya25  \n",
       "3  Pheusrical25  \n",
       "4        Aela59  "
      ]
     },
     "execution_count": 310,
     "metadata": {},
     "output_type": "execute_result"
    }
   ],
   "source": [
    "df_purchase.head()"
   ]
  },
  {
   "cell_type": "code",
   "execution_count": 311,
   "metadata": {},
   "outputs": [
    {
     "data": {
      "text/html": [
       "<div>\n",
       "<style>\n",
       "    .dataframe thead tr:only-child th {\n",
       "        text-align: right;\n",
       "    }\n",
       "\n",
       "    .dataframe thead th {\n",
       "        text-align: left;\n",
       "    }\n",
       "\n",
       "    .dataframe tbody tr th {\n",
       "        vertical-align: top;\n",
       "    }\n",
       "</style>\n",
       "<table border=\"1\" class=\"dataframe\">\n",
       "  <thead>\n",
       "    <tr style=\"text-align: right;\">\n",
       "      <th></th>\n",
       "      <th>Age</th>\n",
       "      <th>Item ID</th>\n",
       "      <th>Price</th>\n",
       "    </tr>\n",
       "  </thead>\n",
       "  <tbody>\n",
       "    <tr>\n",
       "      <th>count</th>\n",
       "      <td>780.000000</td>\n",
       "      <td>780.000000</td>\n",
       "      <td>780.000000</td>\n",
       "    </tr>\n",
       "    <tr>\n",
       "      <th>mean</th>\n",
       "      <td>22.729487</td>\n",
       "      <td>91.293590</td>\n",
       "      <td>2.931192</td>\n",
       "    </tr>\n",
       "    <tr>\n",
       "      <th>std</th>\n",
       "      <td>6.930604</td>\n",
       "      <td>52.707537</td>\n",
       "      <td>1.115780</td>\n",
       "    </tr>\n",
       "    <tr>\n",
       "      <th>min</th>\n",
       "      <td>7.000000</td>\n",
       "      <td>0.000000</td>\n",
       "      <td>1.030000</td>\n",
       "    </tr>\n",
       "    <tr>\n",
       "      <th>25%</th>\n",
       "      <td>19.000000</td>\n",
       "      <td>44.000000</td>\n",
       "      <td>1.960000</td>\n",
       "    </tr>\n",
       "    <tr>\n",
       "      <th>50%</th>\n",
       "      <td>22.000000</td>\n",
       "      <td>91.000000</td>\n",
       "      <td>2.880000</td>\n",
       "    </tr>\n",
       "    <tr>\n",
       "      <th>75%</th>\n",
       "      <td>25.000000</td>\n",
       "      <td>135.000000</td>\n",
       "      <td>3.910000</td>\n",
       "    </tr>\n",
       "    <tr>\n",
       "      <th>max</th>\n",
       "      <td>45.000000</td>\n",
       "      <td>183.000000</td>\n",
       "      <td>4.950000</td>\n",
       "    </tr>\n",
       "  </tbody>\n",
       "</table>\n",
       "</div>"
      ],
      "text/plain": [
       "              Age     Item ID       Price\n",
       "count  780.000000  780.000000  780.000000\n",
       "mean    22.729487   91.293590    2.931192\n",
       "std      6.930604   52.707537    1.115780\n",
       "min      7.000000    0.000000    1.030000\n",
       "25%     19.000000   44.000000    1.960000\n",
       "50%     22.000000   91.000000    2.880000\n",
       "75%     25.000000  135.000000    3.910000\n",
       "max     45.000000  183.000000    4.950000"
      ]
     },
     "execution_count": 311,
     "metadata": {},
     "output_type": "execute_result"
    }
   ],
   "source": [
    "df_purchase.describe()"
   ]
  },
  {
   "cell_type": "markdown",
   "metadata": {},
   "source": [
    "## Player Count"
   ]
  },
  {
   "cell_type": "markdown",
   "metadata": {},
   "source": [
    "The SN looks like can uniquely identify a player so get the unique count of it."
   ]
  },
  {
   "cell_type": "code",
   "execution_count": 312,
   "metadata": {
    "scrolled": true
   },
   "outputs": [
    {
     "data": {
      "text/html": [
       "<div>\n",
       "<style>\n",
       "    .dataframe thead tr:only-child th {\n",
       "        text-align: right;\n",
       "    }\n",
       "\n",
       "    .dataframe thead th {\n",
       "        text-align: left;\n",
       "    }\n",
       "\n",
       "    .dataframe tbody tr th {\n",
       "        vertical-align: top;\n",
       "    }\n",
       "</style>\n",
       "<table border=\"1\" class=\"dataframe\">\n",
       "  <thead>\n",
       "    <tr style=\"text-align: right;\">\n",
       "      <th></th>\n",
       "      <th>Total Playsers</th>\n",
       "    </tr>\n",
       "  </thead>\n",
       "  <tbody>\n",
       "    <tr>\n",
       "      <th>0</th>\n",
       "      <td>573</td>\n",
       "    </tr>\n",
       "  </tbody>\n",
       "</table>\n",
       "</div>"
      ],
      "text/plain": [
       "   Total Playsers\n",
       "0             573"
      ]
     },
     "execution_count": 312,
     "metadata": {},
     "output_type": "execute_result"
    }
   ],
   "source": [
    "DataFrame( [ {\n",
    "    'Total Playsers': len(df_purchase['SN'].unique())\n",
    "} ])"
   ]
  },
  {
   "cell_type": "markdown",
   "metadata": {},
   "source": [
    "## Purchasing Analysis (Total)"
   ]
  },
  {
   "cell_type": "code",
   "execution_count": 313,
   "metadata": {},
   "outputs": [
    {
     "data": {
      "text/html": [
       "<style  type=\"text/css\" >\n",
       "</style>  \n",
       "<table id=\"T_3baae946_19f9_11e8_8598_74e54394bcc7\" > \n",
       "<thead>    <tr> \n",
       "        <th class=\"blank level0\" ></th> \n",
       "        <th class=\"col_heading level0 col0\" >Number of Unique Items</th> \n",
       "        <th class=\"col_heading level0 col1\" >Average Price</th> \n",
       "        <th class=\"col_heading level0 col2\" >Number of Purchases</th> \n",
       "        <th class=\"col_heading level0 col3\" >Total Revenue</th> \n",
       "    </tr></thead> \n",
       "<tbody>    <tr> \n",
       "        <th id=\"T_3baae946_19f9_11e8_8598_74e54394bcc7level0_row0\" class=\"row_heading level0 row0\" >0</th> \n",
       "        <td id=\"T_3baae946_19f9_11e8_8598_74e54394bcc7row0_col0\" class=\"data row0 col0\" >183</td> \n",
       "        <td id=\"T_3baae946_19f9_11e8_8598_74e54394bcc7row0_col1\" class=\"data row0 col1\" >$2.93</td> \n",
       "        <td id=\"T_3baae946_19f9_11e8_8598_74e54394bcc7row0_col2\" class=\"data row0 col2\" >780</td> \n",
       "        <td id=\"T_3baae946_19f9_11e8_8598_74e54394bcc7row0_col3\" class=\"data row0 col3\" >$2,286.33</td> \n",
       "    </tr></tbody> \n",
       "</table> "
      ],
      "text/plain": [
       "<pandas.io.formats.style.Styler at 0x153a17a46a0>"
      ]
     },
     "execution_count": 313,
     "metadata": {},
     "output_type": "execute_result"
    }
   ],
   "source": [
    "DataFrame(\n",
    "    columns = [\n",
    "       'Number of Unique Items',\n",
    "       'Average Price',\n",
    "       'Number of Purchases',\n",
    "       'Total Revenue',\n",
    "    ],\n",
    "    data = [\n",
    "       [len(df_purchase['Item ID'].unique()),\n",
    "        df_purchase.Price.mean(),\n",
    "        df_purchase.Price.count(),\n",
    "        df_purchase.Price.sum(),\n",
    "       ],\n",
    "    ], \n",
    ").style.format(\n",
    "    {'Average Price': '${:,.2f}',\n",
    "     'Total Revenue': '${:,.2f}',\n",
    "    }\n",
    ")"
   ]
  },
  {
   "cell_type": "markdown",
   "metadata": {
    "collapsed": true
   },
   "source": [
    "## Gender Demographics"
   ]
  },
  {
   "cell_type": "code",
   "execution_count": 328,
   "metadata": {},
   "outputs": [
    {
     "data": {
      "text/html": [
       "<style  type=\"text/css\" >\n",
       "</style>  \n",
       "<table id=\"T_ab1f86e6_19f9_11e8_9cb2_74e54394bcc7\" > \n",
       "<thead>    <tr> \n",
       "        <th class=\"blank level0\" ></th> \n",
       "        <th class=\"col_heading level0 col0\" >Toatl Count</th> \n",
       "        <th class=\"col_heading level0 col1\" >Percenage of Players</th> \n",
       "    </tr>    <tr> \n",
       "        <th class=\"index_name level0\" >Gender</th> \n",
       "        <th class=\"blank\" ></th> \n",
       "        <th class=\"blank\" ></th> \n",
       "    </tr></thead> \n",
       "<tbody>    <tr> \n",
       "        <th id=\"T_ab1f86e6_19f9_11e8_9cb2_74e54394bcc7level0_row0\" class=\"row_heading level0 row0\" >Female</th> \n",
       "        <td id=\"T_ab1f86e6_19f9_11e8_9cb2_74e54394bcc7row0_col0\" class=\"data row0 col0\" >100</td> \n",
       "        <td id=\"T_ab1f86e6_19f9_11e8_9cb2_74e54394bcc7row0_col1\" class=\"data row0 col1\" >17.45%</td> \n",
       "    </tr>    <tr> \n",
       "        <th id=\"T_ab1f86e6_19f9_11e8_9cb2_74e54394bcc7level0_row1\" class=\"row_heading level0 row1\" >Male</th> \n",
       "        <td id=\"T_ab1f86e6_19f9_11e8_9cb2_74e54394bcc7row1_col0\" class=\"data row1 col0\" >465</td> \n",
       "        <td id=\"T_ab1f86e6_19f9_11e8_9cb2_74e54394bcc7row1_col1\" class=\"data row1 col1\" >81.15%</td> \n",
       "    </tr>    <tr> \n",
       "        <th id=\"T_ab1f86e6_19f9_11e8_9cb2_74e54394bcc7level0_row2\" class=\"row_heading level0 row2\" >Other / Non-Disclosed</th> \n",
       "        <td id=\"T_ab1f86e6_19f9_11e8_9cb2_74e54394bcc7row2_col0\" class=\"data row2 col0\" >8</td> \n",
       "        <td id=\"T_ab1f86e6_19f9_11e8_9cb2_74e54394bcc7row2_col1\" class=\"data row2 col1\" >1.40%</td> \n",
       "    </tr></tbody> \n",
       "</table> "
      ],
      "text/plain": [
       "<pandas.io.formats.style.Styler at 0x153a17fccc0>"
      ]
     },
     "execution_count": 328,
     "metadata": {},
     "output_type": "execute_result"
    }
   ],
   "source": [
    "df_gender_demographics = DataFrame(\n",
    "    df_purchase.groupby('Gender')['SN'].unique()\n",
    ").assign(\n",
    "    cnt = lambda x: x['SN'].map(len)\n",
    ").assign(\n",
    "    perc=lambda x: x['cnt'] / len(df_purchase['SN'].unique())\n",
    ").drop(\n",
    "    'SN', axis=1\n",
    ").rename(\n",
    "    columns = {\n",
    "        'cnt': 'Toatl Count',\n",
    "        'perc': 'Percenage of Players'\n",
    "    }\n",
    ")\n",
    "\n",
    "df_gender_demographics.style.format(\n",
    "    {\n",
    "      'Percenage of Players': '{:.2%}' \n",
    "    }\n",
    ")\n"
   ]
  },
  {
   "cell_type": "code",
   "execution_count": 343,
   "metadata": {},
   "outputs": [
    {
     "data": {
      "image/png": "[encoded data removed]",
      "text/plain": [
       "<matplotlib.figure.Figure at 0x1539dc587f0>"
      ]
     },
     "metadata": {},
     "output_type": "display_data"
    }
   ],
   "source": [
    "df_gender_demographics['Percenage of Players'].plot.pie()\n",
    "plt.show()"
   ]
  },
  {
   "cell_type": "markdown",
   "metadata": {},
   "source": [
    "## Purchasing Analysis (Gender)\n",
    "**What the hell is 'Normalized Total'?**"
   ]
  },
  {
   "cell_type": "code",
   "execution_count": 315,
   "metadata": {},
   "outputs": [
    {
     "name": "stderr",
     "output_type": "stream",
     "text": [
      "C:\\ProgramData\\Anaconda3\\lib\\site-packages\\ipykernel_launcher.py:6: FutureWarning: using a dict on a Series for aggregation\n",
      "is deprecated and will be removed in a future version\n",
      "  \n"
     ]
    },
    {
     "data": {
      "text/html": [
       "<style  type=\"text/css\" >\n",
       "</style>  \n",
       "<table id=\"T_3bba7a2e_19f9_11e8_8f8a_74e54394bcc7\" > \n",
       "<thead>    <tr> \n",
       "        <th class=\"blank level0\" ></th> \n",
       "        <th class=\"col_heading level0 col0\" >Purchase Count</th> \n",
       "        <th class=\"col_heading level0 col1\" >Average Purchase Price</th> \n",
       "        <th class=\"col_heading level0 col2\" >Total Purchase Value</th> \n",
       "    </tr>    <tr> \n",
       "        <th class=\"index_name level0\" >Gender</th> \n",
       "        <th class=\"blank\" ></th> \n",
       "        <th class=\"blank\" ></th> \n",
       "        <th class=\"blank\" ></th> \n",
       "    </tr></thead> \n",
       "<tbody>    <tr> \n",
       "        <th id=\"T_3bba7a2e_19f9_11e8_8f8a_74e54394bcc7level0_row0\" class=\"row_heading level0 row0\" >Female</th> \n",
       "        <td id=\"T_3bba7a2e_19f9_11e8_8f8a_74e54394bcc7row0_col0\" class=\"data row0 col0\" >136</td> \n",
       "        <td id=\"T_3bba7a2e_19f9_11e8_8f8a_74e54394bcc7row0_col1\" class=\"data row0 col1\" >$2.82</td> \n",
       "        <td id=\"T_3bba7a2e_19f9_11e8_8f8a_74e54394bcc7row0_col2\" class=\"data row0 col2\" >$382.91</td> \n",
       "    </tr>    <tr> \n",
       "        <th id=\"T_3bba7a2e_19f9_11e8_8f8a_74e54394bcc7level0_row1\" class=\"row_heading level0 row1\" >Male</th> \n",
       "        <td id=\"T_3bba7a2e_19f9_11e8_8f8a_74e54394bcc7row1_col0\" class=\"data row1 col0\" >633</td> \n",
       "        <td id=\"T_3bba7a2e_19f9_11e8_8f8a_74e54394bcc7row1_col1\" class=\"data row1 col1\" >$2.95</td> \n",
       "        <td id=\"T_3bba7a2e_19f9_11e8_8f8a_74e54394bcc7row1_col2\" class=\"data row1 col2\" >$1,867.68</td> \n",
       "    </tr>    <tr> \n",
       "        <th id=\"T_3bba7a2e_19f9_11e8_8f8a_74e54394bcc7level0_row2\" class=\"row_heading level0 row2\" >Other / Non-Disclosed</th> \n",
       "        <td id=\"T_3bba7a2e_19f9_11e8_8f8a_74e54394bcc7row2_col0\" class=\"data row2 col0\" >11</td> \n",
       "        <td id=\"T_3bba7a2e_19f9_11e8_8f8a_74e54394bcc7row2_col1\" class=\"data row2 col1\" >$3.25</td> \n",
       "        <td id=\"T_3bba7a2e_19f9_11e8_8f8a_74e54394bcc7row2_col2\" class=\"data row2 col2\" >$35.74</td> \n",
       "    </tr></tbody> \n",
       "</table> "
      ],
      "text/plain": [
       "<pandas.io.formats.style.Styler at 0x153a17a4048>"
      ]
     },
     "execution_count": 315,
     "metadata": {},
     "output_type": "execute_result"
    }
   ],
   "source": [
    "df_grouped = df_purchase.groupby('Gender')['Price']\n",
    "df_grouped.agg(\n",
    "    { \n",
    "        'Purchase Count': 'count',\n",
    "        'Average Purchase Price': 'mean',\n",
    "        'Total Purchase Value': 'sum'\n",
    "    }\n",
    ").style.format(\n",
    "    {'Average Purchase Price': '${:,.2f}',\n",
    "     'Total Purchase Value': '${:,.2f}',\n",
    "    }\n",
    ")\n"
   ]
  },
  {
   "cell_type": "markdown",
   "metadata": {},
   "source": [
    "This method does look straight forwad but the feature will be dropped from Pands in the future. Try to pass list then rename instead."
   ]
  },
  {
   "cell_type": "code",
   "execution_count": 316,
   "metadata": {},
   "outputs": [
    {
     "data": {
      "text/html": [
       "<style  type=\"text/css\" >\n",
       "</style>  \n",
       "<table id=\"T_3bc15800_19f9_11e8_8221_74e54394bcc7\" > \n",
       "<thead>    <tr> \n",
       "        <th class=\"blank level0\" ></th> \n",
       "        <th class=\"col_heading level0 col0\" >Purchase Count</th> \n",
       "        <th class=\"col_heading level0 col1\" >Average Purchase Price</th> \n",
       "        <th class=\"col_heading level0 col2\" >Total Purchase Value</th> \n",
       "    </tr>    <tr> \n",
       "        <th class=\"index_name level0\" >Gender</th> \n",
       "        <th class=\"blank\" ></th> \n",
       "        <th class=\"blank\" ></th> \n",
       "        <th class=\"blank\" ></th> \n",
       "    </tr></thead> \n",
       "<tbody>    <tr> \n",
       "        <th id=\"T_3bc15800_19f9_11e8_8221_74e54394bcc7level0_row0\" class=\"row_heading level0 row0\" >Female</th> \n",
       "        <td id=\"T_3bc15800_19f9_11e8_8221_74e54394bcc7row0_col0\" class=\"data row0 col0\" >136</td> \n",
       "        <td id=\"T_3bc15800_19f9_11e8_8221_74e54394bcc7row0_col1\" class=\"data row0 col1\" >$2.82</td> \n",
       "        <td id=\"T_3bc15800_19f9_11e8_8221_74e54394bcc7row0_col2\" class=\"data row0 col2\" >$382.91</td> \n",
       "    </tr>    <tr> \n",
       "        <th id=\"T_3bc15800_19f9_11e8_8221_74e54394bcc7level0_row1\" class=\"row_heading level0 row1\" >Male</th> \n",
       "        <td id=\"T_3bc15800_19f9_11e8_8221_74e54394bcc7row1_col0\" class=\"data row1 col0\" >633</td> \n",
       "        <td id=\"T_3bc15800_19f9_11e8_8221_74e54394bcc7row1_col1\" class=\"data row1 col1\" >$2.95</td> \n",
       "        <td id=\"T_3bc15800_19f9_11e8_8221_74e54394bcc7row1_col2\" class=\"data row1 col2\" >$1,867.68</td> \n",
       "    </tr>    <tr> \n",
       "        <th id=\"T_3bc15800_19f9_11e8_8221_74e54394bcc7level0_row2\" class=\"row_heading level0 row2\" >Other / Non-Disclosed</th> \n",
       "        <td id=\"T_3bc15800_19f9_11e8_8221_74e54394bcc7row2_col0\" class=\"data row2 col0\" >11</td> \n",
       "        <td id=\"T_3bc15800_19f9_11e8_8221_74e54394bcc7row2_col1\" class=\"data row2 col1\" >$3.25</td> \n",
       "        <td id=\"T_3bc15800_19f9_11e8_8221_74e54394bcc7row2_col2\" class=\"data row2 col2\" >$35.74</td> \n",
       "    </tr></tbody> \n",
       "</table> "
      ],
      "text/plain": [
       "<pandas.io.formats.style.Styler at 0x153a17840b8>"
      ]
     },
     "execution_count": 316,
     "metadata": {},
     "output_type": "execute_result"
    }
   ],
   "source": [
    "df_purchase.groupby('Gender')['Price'].agg(\n",
    "    ['count', 'mean', 'sum']\n",
    ").rename(\n",
    "    columns = {\n",
    "        'count': 'Purchase Count',\n",
    "        'mean': 'Average Purchase Price',\n",
    "        'sum': 'Total Purchase Value'\n",
    "    }\n",
    ").style.format(\n",
    "    {'Average Purchase Price': '${:,.2f}',\n",
    "     'Total Purchase Value': '${:,.2f}',\n",
    "    }\n",
    ")"
   ]
  },
  {
   "cell_type": "markdown",
   "metadata": {},
   "source": [
    "## Age Demographics"
   ]
  },
  {
   "cell_type": "code",
   "execution_count": 330,
   "metadata": {},
   "outputs": [
    {
     "data": {
      "text/plain": [
       "[0, 10, 15, 20, 25, 30, 35, 40, 46]"
      ]
     },
     "execution_count": 330,
     "metadata": {},
     "output_type": "execute_result"
    }
   ],
   "source": [
    "bin_start = 10\n",
    "bins = [0]\n",
    "max_age = df_purchase.Age.max() \n",
    "bins.extend(range(bin_start, max_age, 5))\n",
    "bins.append(max_age + 1)\n",
    "bins"
   ]
  },
  {
   "cell_type": "code",
   "execution_count": 331,
   "metadata": {},
   "outputs": [
    {
     "data": {
      "text/plain": [
       "['< 10', '10-14', '15-19', '20-24', '25-29', '30-34', '35-39', '40+']"
      ]
     },
     "execution_count": 331,
     "metadata": {},
     "output_type": "execute_result"
    }
   ],
   "source": [
    "labels = ['< ' + str(bin_start)]\n",
    "for i in range(1, len(bins) - 2):\n",
    "    labels.append('{}-{}'.format(bins[i], bins[i+1] -1))\n",
    "labels.append(str(bins[-2]) + '+')\n",
    "labels"
   ]
  },
  {
   "cell_type": "code",
   "execution_count": 332,
   "metadata": {
    "collapsed": true
   },
   "outputs": [],
   "source": [
    "df_purchase.loc[:, 'Bined Age'] = pd.cut(df_purchase['Age'], bins=bins, labels=labels)"
   ]
  },
  {
   "cell_type": "code",
   "execution_count": 349,
   "metadata": {},
   "outputs": [
    {
     "data": {
      "text/html": [
       "<style  type=\"text/css\" >\n",
       "</style>  \n",
       "<table id=\"T_f218fdd0_19fa_11e8_9dd2_74e54394bcc7\" > \n",
       "<thead>    <tr> \n",
       "        <th class=\"blank level0\" ></th> \n",
       "        <th class=\"col_heading level0 col0\" >Total Count</th> \n",
       "        <th class=\"col_heading level0 col1\" >Percenage of Players</th> \n",
       "    </tr>    <tr> \n",
       "        <th class=\"index_name level0\" >Bined Age</th> \n",
       "        <th class=\"blank\" ></th> \n",
       "        <th class=\"blank\" ></th> \n",
       "    </tr></thead> \n",
       "<tbody>    <tr> \n",
       "        <th id=\"T_f218fdd0_19fa_11e8_9dd2_74e54394bcc7level0_row0\" class=\"row_heading level0 row0\" >< 10</th> \n",
       "        <td id=\"T_f218fdd0_19fa_11e8_9dd2_74e54394bcc7row0_col0\" class=\"data row0 col0\" >22</td> \n",
       "        <td id=\"T_f218fdd0_19fa_11e8_9dd2_74e54394bcc7row0_col1\" class=\"data row0 col1\" >3.84%</td> \n",
       "    </tr>    <tr> \n",
       "        <th id=\"T_f218fdd0_19fa_11e8_9dd2_74e54394bcc7level0_row1\" class=\"row_heading level0 row1\" >10-14</th> \n",
       "        <td id=\"T_f218fdd0_19fa_11e8_9dd2_74e54394bcc7row1_col0\" class=\"data row1 col0\" >54</td> \n",
       "        <td id=\"T_f218fdd0_19fa_11e8_9dd2_74e54394bcc7row1_col1\" class=\"data row1 col1\" >9.42%</td> \n",
       "    </tr>    <tr> \n",
       "        <th id=\"T_f218fdd0_19fa_11e8_9dd2_74e54394bcc7level0_row2\" class=\"row_heading level0 row2\" >15-19</th> \n",
       "        <td id=\"T_f218fdd0_19fa_11e8_9dd2_74e54394bcc7row2_col0\" class=\"data row2 col0\" >139</td> \n",
       "        <td id=\"T_f218fdd0_19fa_11e8_9dd2_74e54394bcc7row2_col1\" class=\"data row2 col1\" >24.26%</td> \n",
       "    </tr>    <tr> \n",
       "        <th id=\"T_f218fdd0_19fa_11e8_9dd2_74e54394bcc7level0_row3\" class=\"row_heading level0 row3\" >20-24</th> \n",
       "        <td id=\"T_f218fdd0_19fa_11e8_9dd2_74e54394bcc7row3_col0\" class=\"data row3 col0\" >234</td> \n",
       "        <td id=\"T_f218fdd0_19fa_11e8_9dd2_74e54394bcc7row3_col1\" class=\"data row3 col1\" >40.84%</td> \n",
       "    </tr>    <tr> \n",
       "        <th id=\"T_f218fdd0_19fa_11e8_9dd2_74e54394bcc7level0_row4\" class=\"row_heading level0 row4\" >25-29</th> \n",
       "        <td id=\"T_f218fdd0_19fa_11e8_9dd2_74e54394bcc7row4_col0\" class=\"data row4 col0\" >52</td> \n",
       "        <td id=\"T_f218fdd0_19fa_11e8_9dd2_74e54394bcc7row4_col1\" class=\"data row4 col1\" >9.08%</td> \n",
       "    </tr>    <tr> \n",
       "        <th id=\"T_f218fdd0_19fa_11e8_9dd2_74e54394bcc7level0_row5\" class=\"row_heading level0 row5\" >30-34</th> \n",
       "        <td id=\"T_f218fdd0_19fa_11e8_9dd2_74e54394bcc7row5_col0\" class=\"data row5 col0\" >44</td> \n",
       "        <td id=\"T_f218fdd0_19fa_11e8_9dd2_74e54394bcc7row5_col1\" class=\"data row5 col1\" >7.68%</td> \n",
       "    </tr>    <tr> \n",
       "        <th id=\"T_f218fdd0_19fa_11e8_9dd2_74e54394bcc7level0_row6\" class=\"row_heading level0 row6\" >35-39</th> \n",
       "        <td id=\"T_f218fdd0_19fa_11e8_9dd2_74e54394bcc7row6_col0\" class=\"data row6 col0\" >25</td> \n",
       "        <td id=\"T_f218fdd0_19fa_11e8_9dd2_74e54394bcc7row6_col1\" class=\"data row6 col1\" >4.36%</td> \n",
       "    </tr>    <tr> \n",
       "        <th id=\"T_f218fdd0_19fa_11e8_9dd2_74e54394bcc7level0_row7\" class=\"row_heading level0 row7\" >40+</th> \n",
       "        <td id=\"T_f218fdd0_19fa_11e8_9dd2_74e54394bcc7row7_col0\" class=\"data row7 col0\" >3</td> \n",
       "        <td id=\"T_f218fdd0_19fa_11e8_9dd2_74e54394bcc7row7_col1\" class=\"data row7 col1\" >0.52%</td> \n",
       "    </tr></tbody> \n",
       "</table> "
      ],
      "text/plain": [
       "<pandas.io.formats.style.Styler at 0x153a1844668>"
      ]
     },
     "execution_count": 349,
     "metadata": {},
     "output_type": "execute_result"
    }
   ],
   "source": [
    "df_age_demographics = DataFrame(\n",
    "    df_purchase.groupby('Bined Age')['SN'].unique()\n",
    ").assign(\n",
    "    cnt = lambda x: x['SN'].map(len)\n",
    ").assign(\n",
    "    perc=lambda x: x['cnt'] / len(df_purchase['SN'].unique())\n",
    ").drop(\n",
    "    'SN', axis=1\n",
    ").rename(\n",
    "    columns = {\n",
    "        'cnt': 'Total Count',\n",
    "        'perc': 'Percenage of Players'\n",
    "    }\n",
    ")\n",
    "\n",
    "df_age_demographics.style.format(\n",
    "    {\n",
    "      'Percenage of Players': '{:.2%}' \n",
    "    }\n",
    ")\n",
    "    "
   ]
  },
  {
   "cell_type": "code",
   "execution_count": 346,
   "metadata": {
    "scrolled": true
   },
   "outputs": [
    {
     "data": {
      "image/png": "[encoded data removed]",
      "text/plain": [
       "<matplotlib.figure.Figure at 0x153a1b2f5c0>"
      ]
     },
     "metadata": {},
     "output_type": "display_data"
    }
   ],
   "source": [
    "df_age_demographics['Total Count'].plot.bar()\n",
    "plt.show()"
   ]
  },
  {
   "cell_type": "markdown",
   "metadata": {},
   "source": [
    "## Purchasing Analysis (Age)"
   ]
  },
  {
   "cell_type": "code",
   "execution_count": 335,
   "metadata": {
    "scrolled": true
   },
   "outputs": [
    {
     "data": {
      "text/html": [
       "<style  type=\"text/css\" >\n",
       "</style>  \n",
       "<table id=\"T_f2e92c10_19f9_11e8_ac8e_74e54394bcc7\" > \n",
       "<thead>    <tr> \n",
       "        <th class=\"blank level0\" ></th> \n",
       "        <th class=\"col_heading level0 col0\" >Purchase Count</th> \n",
       "        <th class=\"col_heading level0 col1\" >Average Purchase Price</th> \n",
       "        <th class=\"col_heading level0 col2\" >Total Purchase Value</th> \n",
       "    </tr>    <tr> \n",
       "        <th class=\"index_name level0\" >Bined Age</th> \n",
       "        <th class=\"blank\" ></th> \n",
       "        <th class=\"blank\" ></th> \n",
       "        <th class=\"blank\" ></th> \n",
       "    </tr></thead> \n",
       "<tbody>    <tr> \n",
       "        <th id=\"T_f2e92c10_19f9_11e8_ac8e_74e54394bcc7level0_row0\" class=\"row_heading level0 row0\" >< 10</th> \n",
       "        <td id=\"T_f2e92c10_19f9_11e8_ac8e_74e54394bcc7row0_col0\" class=\"data row0 col0\" >32</td> \n",
       "        <td id=\"T_f2e92c10_19f9_11e8_ac8e_74e54394bcc7row0_col1\" class=\"data row0 col1\" >$3.02</td> \n",
       "        <td id=\"T_f2e92c10_19f9_11e8_ac8e_74e54394bcc7row0_col2\" class=\"data row0 col2\" >$96.62</td> \n",
       "    </tr>    <tr> \n",
       "        <th id=\"T_f2e92c10_19f9_11e8_ac8e_74e54394bcc7level0_row1\" class=\"row_heading level0 row1\" >10-14</th> \n",
       "        <td id=\"T_f2e92c10_19f9_11e8_ac8e_74e54394bcc7row1_col0\" class=\"data row1 col0\" >78</td> \n",
       "        <td id=\"T_f2e92c10_19f9_11e8_ac8e_74e54394bcc7row1_col1\" class=\"data row1 col1\" >$2.87</td> \n",
       "        <td id=\"T_f2e92c10_19f9_11e8_ac8e_74e54394bcc7row1_col2\" class=\"data row1 col2\" >$224.15</td> \n",
       "    </tr>    <tr> \n",
       "        <th id=\"T_f2e92c10_19f9_11e8_ac8e_74e54394bcc7level0_row2\" class=\"row_heading level0 row2\" >15-19</th> \n",
       "        <td id=\"T_f2e92c10_19f9_11e8_ac8e_74e54394bcc7row2_col0\" class=\"data row2 col0\" >184</td> \n",
       "        <td id=\"T_f2e92c10_19f9_11e8_ac8e_74e54394bcc7row2_col1\" class=\"data row2 col1\" >$2.87</td> \n",
       "        <td id=\"T_f2e92c10_19f9_11e8_ac8e_74e54394bcc7row2_col2\" class=\"data row2 col2\" >$528.74</td> \n",
       "    </tr>    <tr> \n",
       "        <th id=\"T_f2e92c10_19f9_11e8_ac8e_74e54394bcc7level0_row3\" class=\"row_heading level0 row3\" >20-24</th> \n",
       "        <td id=\"T_f2e92c10_19f9_11e8_ac8e_74e54394bcc7row3_col0\" class=\"data row3 col0\" >305</td> \n",
       "        <td id=\"T_f2e92c10_19f9_11e8_ac8e_74e54394bcc7row3_col1\" class=\"data row3 col1\" >$2.96</td> \n",
       "        <td id=\"T_f2e92c10_19f9_11e8_ac8e_74e54394bcc7row3_col2\" class=\"data row3 col2\" >$902.61</td> \n",
       "    </tr>    <tr> \n",
       "        <th id=\"T_f2e92c10_19f9_11e8_ac8e_74e54394bcc7level0_row4\" class=\"row_heading level0 row4\" >25-29</th> \n",
       "        <td id=\"T_f2e92c10_19f9_11e8_ac8e_74e54394bcc7row4_col0\" class=\"data row4 col0\" >76</td> \n",
       "        <td id=\"T_f2e92c10_19f9_11e8_ac8e_74e54394bcc7row4_col1\" class=\"data row4 col1\" >$2.89</td> \n",
       "        <td id=\"T_f2e92c10_19f9_11e8_ac8e_74e54394bcc7row4_col2\" class=\"data row4 col2\" >$219.82</td> \n",
       "    </tr>    <tr> \n",
       "        <th id=\"T_f2e92c10_19f9_11e8_ac8e_74e54394bcc7level0_row5\" class=\"row_heading level0 row5\" >30-34</th> \n",
       "        <td id=\"T_f2e92c10_19f9_11e8_ac8e_74e54394bcc7row5_col0\" class=\"data row5 col0\" >58</td> \n",
       "        <td id=\"T_f2e92c10_19f9_11e8_ac8e_74e54394bcc7row5_col1\" class=\"data row5 col1\" >$3.07</td> \n",
       "        <td id=\"T_f2e92c10_19f9_11e8_ac8e_74e54394bcc7row5_col2\" class=\"data row5 col2\" >$178.26</td> \n",
       "    </tr>    <tr> \n",
       "        <th id=\"T_f2e92c10_19f9_11e8_ac8e_74e54394bcc7level0_row6\" class=\"row_heading level0 row6\" >35-39</th> \n",
       "        <td id=\"T_f2e92c10_19f9_11e8_ac8e_74e54394bcc7row6_col0\" class=\"data row6 col0\" >44</td> \n",
       "        <td id=\"T_f2e92c10_19f9_11e8_ac8e_74e54394bcc7row6_col1\" class=\"data row6 col1\" >$2.90</td> \n",
       "        <td id=\"T_f2e92c10_19f9_11e8_ac8e_74e54394bcc7row6_col2\" class=\"data row6 col2\" >$127.49</td> \n",
       "    </tr>    <tr> \n",
       "        <th id=\"T_f2e92c10_19f9_11e8_ac8e_74e54394bcc7level0_row7\" class=\"row_heading level0 row7\" >40+</th> \n",
       "        <td id=\"T_f2e92c10_19f9_11e8_ac8e_74e54394bcc7row7_col0\" class=\"data row7 col0\" >3</td> \n",
       "        <td id=\"T_f2e92c10_19f9_11e8_ac8e_74e54394bcc7row7_col1\" class=\"data row7 col1\" >$2.88</td> \n",
       "        <td id=\"T_f2e92c10_19f9_11e8_ac8e_74e54394bcc7row7_col2\" class=\"data row7 col2\" >$8.64</td> \n",
       "    </tr></tbody> \n",
       "</table> "
      ],
      "text/plain": [
       "<pandas.io.formats.style.Styler at 0x153a18225f8>"
      ]
     },
     "execution_count": 335,
     "metadata": {},
     "output_type": "execute_result"
    }
   ],
   "source": [
    "df_purchase.groupby('Bined Age')['Price'].agg(\n",
    "    ['count', 'mean', 'sum']\n",
    ").rename(\n",
    "    columns = {\n",
    "        'count': 'Purchase Count',\n",
    "        'mean': 'Average Purchase Price',\n",
    "        'sum': 'Total Purchase Value'\n",
    "    }\n",
    ").style.format(\n",
    "    {\n",
    "        'Average Purchase Price': '${:,.2f}',\n",
    "        'Total Purchase Value': '${:,.2f}',\n",
    "    }\n",
    ")"
   ]
  },
  {
   "cell_type": "markdown",
   "metadata": {},
   "source": [
    "## Top Spenders"
   ]
  },
  {
   "cell_type": "code",
   "execution_count": 336,
   "metadata": {},
   "outputs": [
    {
     "data": {
      "text/html": [
       "<style  type=\"text/css\" >\n",
       "</style>  \n",
       "<table id=\"T_f3a80f66_19f9_11e8_a098_74e54394bcc7\" > \n",
       "<thead>    <tr> \n",
       "        <th class=\"blank level0\" ></th> \n",
       "        <th class=\"col_heading level0 col0\" >Purchase Count</th> \n",
       "        <th class=\"col_heading level0 col1\" >Average Purchase Price</th> \n",
       "        <th class=\"col_heading level0 col2\" >Total Purchase Value</th> \n",
       "    </tr>    <tr> \n",
       "        <th class=\"index_name level0\" >SN</th> \n",
       "        <th class=\"blank\" ></th> \n",
       "        <th class=\"blank\" ></th> \n",
       "        <th class=\"blank\" ></th> \n",
       "    </tr></thead> \n",
       "<tbody>    <tr> \n",
       "        <th id=\"T_f3a80f66_19f9_11e8_a098_74e54394bcc7level0_row0\" class=\"row_heading level0 row0\" >Undirrala66</th> \n",
       "        <td id=\"T_f3a80f66_19f9_11e8_a098_74e54394bcc7row0_col0\" class=\"data row0 col0\" >5</td> \n",
       "        <td id=\"T_f3a80f66_19f9_11e8_a098_74e54394bcc7row0_col1\" class=\"data row0 col1\" >$3.41</td> \n",
       "        <td id=\"T_f3a80f66_19f9_11e8_a098_74e54394bcc7row0_col2\" class=\"data row0 col2\" >$17.06</td> \n",
       "    </tr>    <tr> \n",
       "        <th id=\"T_f3a80f66_19f9_11e8_a098_74e54394bcc7level0_row1\" class=\"row_heading level0 row1\" >Saedue76</th> \n",
       "        <td id=\"T_f3a80f66_19f9_11e8_a098_74e54394bcc7row1_col0\" class=\"data row1 col0\" >4</td> \n",
       "        <td id=\"T_f3a80f66_19f9_11e8_a098_74e54394bcc7row1_col1\" class=\"data row1 col1\" >$3.39</td> \n",
       "        <td id=\"T_f3a80f66_19f9_11e8_a098_74e54394bcc7row1_col2\" class=\"data row1 col2\" >$13.56</td> \n",
       "    </tr>    <tr> \n",
       "        <th id=\"T_f3a80f66_19f9_11e8_a098_74e54394bcc7level0_row2\" class=\"row_heading level0 row2\" >Mindimnya67</th> \n",
       "        <td id=\"T_f3a80f66_19f9_11e8_a098_74e54394bcc7row2_col0\" class=\"data row2 col0\" >4</td> \n",
       "        <td id=\"T_f3a80f66_19f9_11e8_a098_74e54394bcc7row2_col1\" class=\"data row2 col1\" >$3.18</td> \n",
       "        <td id=\"T_f3a80f66_19f9_11e8_a098_74e54394bcc7row2_col2\" class=\"data row2 col2\" >$12.74</td> \n",
       "    </tr>    <tr> \n",
       "        <th id=\"T_f3a80f66_19f9_11e8_a098_74e54394bcc7level0_row3\" class=\"row_heading level0 row3\" >Haellysu29</th> \n",
       "        <td id=\"T_f3a80f66_19f9_11e8_a098_74e54394bcc7row3_col0\" class=\"data row3 col0\" >3</td> \n",
       "        <td id=\"T_f3a80f66_19f9_11e8_a098_74e54394bcc7row3_col1\" class=\"data row3 col1\" >$4.24</td> \n",
       "        <td id=\"T_f3a80f66_19f9_11e8_a098_74e54394bcc7row3_col2\" class=\"data row3 col2\" >$12.73</td> \n",
       "    </tr>    <tr> \n",
       "        <th id=\"T_f3a80f66_19f9_11e8_a098_74e54394bcc7level0_row4\" class=\"row_heading level0 row4\" >Eoda93</th> \n",
       "        <td id=\"T_f3a80f66_19f9_11e8_a098_74e54394bcc7row4_col0\" class=\"data row4 col0\" >3</td> \n",
       "        <td id=\"T_f3a80f66_19f9_11e8_a098_74e54394bcc7row4_col1\" class=\"data row4 col1\" >$3.86</td> \n",
       "        <td id=\"T_f3a80f66_19f9_11e8_a098_74e54394bcc7row4_col2\" class=\"data row4 col2\" >$11.58</td> \n",
       "    </tr></tbody> \n",
       "</table> "
      ],
      "text/plain": [
       "<pandas.io.formats.style.Styler at 0x153a183f4a8>"
      ]
     },
     "execution_count": 336,
     "metadata": {},
     "output_type": "execute_result"
    }
   ],
   "source": [
    "df_purchase.groupby('SN')['Price'].agg(\n",
    "    ['count', 'mean', 'sum']\n",
    ").sort_values(\n",
    "    by='sum', \n",
    "    ascending=False\n",
    ").rename(\n",
    "    columns={\n",
    "        'count': 'Purchase Count',\n",
    "        'mean': 'Average Purchase Price',\n",
    "        'sum': 'Total Purchase Value'\n",
    "    }\n",
    ").head(5).style.format(\n",
    "    {\n",
    "        'Average Purchase Price': '${:,.2f}',\n",
    "         'Total Purchase Value': '${:,.2f}',\n",
    "    }\n",
    ")"
   ]
  },
  {
   "cell_type": "markdown",
   "metadata": {},
   "source": [
    "## Most Popular Items"
   ]
  },
  {
   "cell_type": "code",
   "execution_count": 337,
   "metadata": {},
   "outputs": [
    {
     "data": {
      "text/html": [
       "<style  type=\"text/css\" >\n",
       "</style>  \n",
       "<table id=\"T_f450f2ee_19f9_11e8_ba8e_74e54394bcc7\" > \n",
       "<thead>    <tr> \n",
       "        <th class=\"blank\" ></th> \n",
       "        <th class=\"blank level0\" ></th> \n",
       "        <th class=\"col_heading level0 col0\" >Purchase Count</th> \n",
       "        <th class=\"col_heading level0 col1\" >Average Purchase Price</th> \n",
       "        <th class=\"col_heading level0 col2\" >Total Purchase Value</th> \n",
       "    </tr>    <tr> \n",
       "        <th class=\"index_name level0\" >Item ID</th> \n",
       "        <th class=\"index_name level1\" >Item Name</th> \n",
       "        <th class=\"blank\" ></th> \n",
       "        <th class=\"blank\" ></th> \n",
       "        <th class=\"blank\" ></th> \n",
       "    </tr></thead> \n",
       "<tbody>    <tr> \n",
       "        <th id=\"T_f450f2ee_19f9_11e8_ba8e_74e54394bcc7level0_row0\" class=\"row_heading level0 row0\" >39</th> \n",
       "        <th id=\"T_f450f2ee_19f9_11e8_ba8e_74e54394bcc7level1_row0\" class=\"row_heading level1 row0\" >Betrayal, Whisper of Grieving Widows</th> \n",
       "        <td id=\"T_f450f2ee_19f9_11e8_ba8e_74e54394bcc7row0_col0\" class=\"data row0 col0\" >11</td> \n",
       "        <td id=\"T_f450f2ee_19f9_11e8_ba8e_74e54394bcc7row0_col1\" class=\"data row0 col1\" >$2.35</td> \n",
       "        <td id=\"T_f450f2ee_19f9_11e8_ba8e_74e54394bcc7row0_col2\" class=\"data row0 col2\" >$25.85</td> \n",
       "    </tr>    <tr> \n",
       "        <th id=\"T_f450f2ee_19f9_11e8_ba8e_74e54394bcc7level0_row1\" class=\"row_heading level0 row1\" >84</th> \n",
       "        <th id=\"T_f450f2ee_19f9_11e8_ba8e_74e54394bcc7level1_row1\" class=\"row_heading level1 row1\" >Arcane Gem</th> \n",
       "        <td id=\"T_f450f2ee_19f9_11e8_ba8e_74e54394bcc7row1_col0\" class=\"data row1 col0\" >11</td> \n",
       "        <td id=\"T_f450f2ee_19f9_11e8_ba8e_74e54394bcc7row1_col1\" class=\"data row1 col1\" >$2.23</td> \n",
       "        <td id=\"T_f450f2ee_19f9_11e8_ba8e_74e54394bcc7row1_col2\" class=\"data row1 col2\" >$24.53</td> \n",
       "    </tr>    <tr> \n",
       "        <th id=\"T_f450f2ee_19f9_11e8_ba8e_74e54394bcc7level0_row2\" class=\"row_heading level0 row2\" >31</th> \n",
       "        <th id=\"T_f450f2ee_19f9_11e8_ba8e_74e54394bcc7level1_row2\" class=\"row_heading level1 row2\" >Trickster</th> \n",
       "        <td id=\"T_f450f2ee_19f9_11e8_ba8e_74e54394bcc7row2_col0\" class=\"data row2 col0\" >9</td> \n",
       "        <td id=\"T_f450f2ee_19f9_11e8_ba8e_74e54394bcc7row2_col1\" class=\"data row2 col1\" >$2.07</td> \n",
       "        <td id=\"T_f450f2ee_19f9_11e8_ba8e_74e54394bcc7row2_col2\" class=\"data row2 col2\" >$18.63</td> \n",
       "    </tr>    <tr> \n",
       "        <th id=\"T_f450f2ee_19f9_11e8_ba8e_74e54394bcc7level0_row3\" class=\"row_heading level0 row3\" >175</th> \n",
       "        <th id=\"T_f450f2ee_19f9_11e8_ba8e_74e54394bcc7level1_row3\" class=\"row_heading level1 row3\" >Woeful Adamantite Claymore</th> \n",
       "        <td id=\"T_f450f2ee_19f9_11e8_ba8e_74e54394bcc7row3_col0\" class=\"data row3 col0\" >9</td> \n",
       "        <td id=\"T_f450f2ee_19f9_11e8_ba8e_74e54394bcc7row3_col1\" class=\"data row3 col1\" >$1.24</td> \n",
       "        <td id=\"T_f450f2ee_19f9_11e8_ba8e_74e54394bcc7row3_col2\" class=\"data row3 col2\" >$11.16</td> \n",
       "    </tr>    <tr> \n",
       "        <th id=\"T_f450f2ee_19f9_11e8_ba8e_74e54394bcc7level0_row4\" class=\"row_heading level0 row4\" >13</th> \n",
       "        <th id=\"T_f450f2ee_19f9_11e8_ba8e_74e54394bcc7level1_row4\" class=\"row_heading level1 row4\" >Serenity</th> \n",
       "        <td id=\"T_f450f2ee_19f9_11e8_ba8e_74e54394bcc7row4_col0\" class=\"data row4 col0\" >9</td> \n",
       "        <td id=\"T_f450f2ee_19f9_11e8_ba8e_74e54394bcc7row4_col1\" class=\"data row4 col1\" >$1.49</td> \n",
       "        <td id=\"T_f450f2ee_19f9_11e8_ba8e_74e54394bcc7row4_col2\" class=\"data row4 col2\" >$13.41</td> \n",
       "    </tr></tbody> \n",
       "</table> "
      ],
      "text/plain": [
       "<pandas.io.formats.style.Styler at 0x153a183d940>"
      ]
     },
     "execution_count": 337,
     "metadata": {},
     "output_type": "execute_result"
    }
   ],
   "source": [
    "df_purchase.groupby(['Item ID', 'Item Name'])['Price'].agg(\n",
    "    ['count', 'mean', 'sum']\n",
    ").sort_values(\n",
    "    by='count', \n",
    "    ascending=False\n",
    ").rename(\n",
    "    columns={\n",
    "        'count': 'Purchase Count',\n",
    "        'mean': 'Average Purchase Price',\n",
    "        'sum': 'Total Purchase Value'\n",
    "    }\n",
    ").head(5).style.format(\n",
    "    {\n",
    "        'Average Purchase Price': '${:,.2f}',\n",
    "         'Total Purchase Value': '${:,.2f}',\n",
    "    }\n",
    ")"
   ]
  },
  {
   "cell_type": "markdown",
   "metadata": {
    "collapsed": true
   },
   "source": [
    "## Most Porfitable Items"
   ]
  },
  {
   "cell_type": "code",
   "execution_count": 338,
   "metadata": {},
   "outputs": [
    {
     "data": {
      "text/html": [
       "<style  type=\"text/css\" >\n",
       "</style>  \n",
       "<table id=\"T_f4d43e12_19f9_11e8_8f34_74e54394bcc7\" > \n",
       "<thead>    <tr> \n",
       "        <th class=\"blank\" ></th> \n",
       "        <th class=\"blank level0\" ></th> \n",
       "        <th class=\"col_heading level0 col0\" >Purchase Count</th> \n",
       "        <th class=\"col_heading level0 col1\" >Average Purchase Price</th> \n",
       "        <th class=\"col_heading level0 col2\" >Total Purchase Value</th> \n",
       "    </tr>    <tr> \n",
       "        <th class=\"index_name level0\" >Item ID</th> \n",
       "        <th class=\"index_name level1\" >Item Name</th> \n",
       "        <th class=\"blank\" ></th> \n",
       "        <th class=\"blank\" ></th> \n",
       "        <th class=\"blank\" ></th> \n",
       "    </tr></thead> \n",
       "<tbody>    <tr> \n",
       "        <th id=\"T_f4d43e12_19f9_11e8_8f34_74e54394bcc7level0_row0\" class=\"row_heading level0 row0\" >34</th> \n",
       "        <th id=\"T_f4d43e12_19f9_11e8_8f34_74e54394bcc7level1_row0\" class=\"row_heading level1 row0\" >Retribution Axe</th> \n",
       "        <td id=\"T_f4d43e12_19f9_11e8_8f34_74e54394bcc7row0_col0\" class=\"data row0 col0\" >9</td> \n",
       "        <td id=\"T_f4d43e12_19f9_11e8_8f34_74e54394bcc7row0_col1\" class=\"data row0 col1\" >$4.14</td> \n",
       "        <td id=\"T_f4d43e12_19f9_11e8_8f34_74e54394bcc7row0_col2\" class=\"data row0 col2\" >$37.26</td> \n",
       "    </tr>    <tr> \n",
       "        <th id=\"T_f4d43e12_19f9_11e8_8f34_74e54394bcc7level0_row1\" class=\"row_heading level0 row1\" >115</th> \n",
       "        <th id=\"T_f4d43e12_19f9_11e8_8f34_74e54394bcc7level1_row1\" class=\"row_heading level1 row1\" >Spectral Diamond Doomblade</th> \n",
       "        <td id=\"T_f4d43e12_19f9_11e8_8f34_74e54394bcc7row1_col0\" class=\"data row1 col0\" >7</td> \n",
       "        <td id=\"T_f4d43e12_19f9_11e8_8f34_74e54394bcc7row1_col1\" class=\"data row1 col1\" >$4.25</td> \n",
       "        <td id=\"T_f4d43e12_19f9_11e8_8f34_74e54394bcc7row1_col2\" class=\"data row1 col2\" >$29.75</td> \n",
       "    </tr>    <tr> \n",
       "        <th id=\"T_f4d43e12_19f9_11e8_8f34_74e54394bcc7level0_row2\" class=\"row_heading level0 row2\" >32</th> \n",
       "        <th id=\"T_f4d43e12_19f9_11e8_8f34_74e54394bcc7level1_row2\" class=\"row_heading level1 row2\" >Orenmir</th> \n",
       "        <td id=\"T_f4d43e12_19f9_11e8_8f34_74e54394bcc7row2_col0\" class=\"data row2 col0\" >6</td> \n",
       "        <td id=\"T_f4d43e12_19f9_11e8_8f34_74e54394bcc7row2_col1\" class=\"data row2 col1\" >$4.95</td> \n",
       "        <td id=\"T_f4d43e12_19f9_11e8_8f34_74e54394bcc7row2_col2\" class=\"data row2 col2\" >$29.70</td> \n",
       "    </tr>    <tr> \n",
       "        <th id=\"T_f4d43e12_19f9_11e8_8f34_74e54394bcc7level0_row3\" class=\"row_heading level0 row3\" >103</th> \n",
       "        <th id=\"T_f4d43e12_19f9_11e8_8f34_74e54394bcc7level1_row3\" class=\"row_heading level1 row3\" >Singed Scalpel</th> \n",
       "        <td id=\"T_f4d43e12_19f9_11e8_8f34_74e54394bcc7row3_col0\" class=\"data row3 col0\" >6</td> \n",
       "        <td id=\"T_f4d43e12_19f9_11e8_8f34_74e54394bcc7row3_col1\" class=\"data row3 col1\" >$4.87</td> \n",
       "        <td id=\"T_f4d43e12_19f9_11e8_8f34_74e54394bcc7row3_col2\" class=\"data row3 col2\" >$29.22</td> \n",
       "    </tr>    <tr> \n",
       "        <th id=\"T_f4d43e12_19f9_11e8_8f34_74e54394bcc7level0_row4\" class=\"row_heading level0 row4\" >107</th> \n",
       "        <th id=\"T_f4d43e12_19f9_11e8_8f34_74e54394bcc7level1_row4\" class=\"row_heading level1 row4\" >Splitter, Foe Of Subtlety</th> \n",
       "        <td id=\"T_f4d43e12_19f9_11e8_8f34_74e54394bcc7row4_col0\" class=\"data row4 col0\" >8</td> \n",
       "        <td id=\"T_f4d43e12_19f9_11e8_8f34_74e54394bcc7row4_col1\" class=\"data row4 col1\" >$3.61</td> \n",
       "        <td id=\"T_f4d43e12_19f9_11e8_8f34_74e54394bcc7row4_col2\" class=\"data row4 col2\" >$28.88</td> \n",
       "    </tr></tbody> \n",
       "</table> "
      ],
      "text/plain": [
       "<pandas.io.formats.style.Styler at 0x153a1841208>"
      ]
     },
     "execution_count": 338,
     "metadata": {},
     "output_type": "execute_result"
    }
   ],
   "source": [
    "df_purchase.groupby(['Item ID', 'Item Name'])['Price'].agg(\n",
    "    ['count', 'mean', 'sum']\n",
    ").sort_values(\n",
    "    by='sum', \n",
    "    ascending=False\n",
    ").rename(\n",
    "    columns={\n",
    "        'count': 'Purchase Count',\n",
    "        'mean': 'Average Purchase Price',\n",
    "        'sum': 'Total Purchase Value'\n",
    "    }\n",
    ").head(5).style.format(\n",
    "    {\n",
    "        'Average Purchase Price': '${:,.2f}',\n",
    "         'Total Purchase Value': '${:,.2f}',\n",
    "    }\n",
    ")"
   ]
  }
 ],
 "metadata": {
  "kernelspec": {
   "display_name": "Python 3",
   "language": "python",
   "name": "python3"
  },
  "language_info": {
   "codemirror_mode": {
    "name": "ipython",
    "version": 3
   },
   "file_extension": ".py",
   "mimetype": "text/x-python",
   "name": "python",
   "nbconvert_exporter": "python",
   "pygments_lexer": "ipython3",
   "version": "3.6.3"
  }
 },
 "nbformat": 4,
 "nbformat_minor": 2
}
