{
 "cells": [
  {
   "cell_type": "markdown",
   "metadata": {},
   "source": [
    "# Exploring Data Analsis of Purchase Data"
   ]
  },
  {
   "cell_type": "markdown",
   "metadata": {},
   "source": [
    "## Trends\n",
    "1. Majority of players are male\n",
    "2. Majority of purchaes are made by players between 15 to 24 \n",
    "3. Most items are only purchased once based on the data file. This might not be true if the data is just a sample.\n",
    "4. Plyer age distribution is close to normal but slightly right skewed"
   ]
  },
  {
   "cell_type": "code",
   "execution_count": 183,
   "metadata": {
    "collapsed": true
   },
   "outputs": [],
   "source": [
    "import os\n",
    "from pandas import Series, DataFrame\n",
    "import pandas as pd\n",
    "import matplotlib.pyplot as plt\n",
    "\n",
    "MONEY_FORMAT = '${:,.2f}'\n",
    "PERC_FORMAT = '{:.2%}'\n",
    "CNT_FORMAT = '{:,}'\n",
    "FORMAT = {\n",
    "    'Average Purchase Price': MONEY_FORMAT,\n",
    "    'Total Purchase Value': MONEY_FORMAT,\n",
    "    'Percenage of Players': '{:.2%}',\n",
    "    'Normalized Total':  MONEY_FORMAT,\n",
    "    'Average Price': MONEY_FORMAT,\n",
    "    'Total Revenue': MONEY_FORMAT,\n",
    "    'Total Players': CNT_FORMAT,\n",
    "    'Number of Purchases': CNT_FORMAT\n",
    "}"
   ]
  },
  {
   "cell_type": "markdown",
   "metadata": {},
   "source": [
    "## Load to DataFrame"
   ]
  },
  {
   "cell_type": "code",
   "execution_count": 184,
   "metadata": {},
   "outputs": [
    {
     "name": "stdout",
     "output_type": "stream",
     "text": [
      "What's the input file?purchase_data.json\n"
     ]
    }
   ],
   "source": [
    "DATA_PATH = '.'\n",
    "file = input(\"What's the input file?\")\n",
    "full_path = os.path.join(DATA_PATH, file)\n",
    "df_purchase = pd.read_json(full_path)"
   ]
  },
  {
   "cell_type": "markdown",
   "metadata": {},
   "source": [
    "## Player Count"
   ]
  },
  {
   "cell_type": "markdown",
   "metadata": {},
   "source": [
    "The SN looks like can uniquely identify a player so get the unique count of it."
   ]
  },
  {
   "cell_type": "code",
   "execution_count": 197,
   "metadata": {
    "scrolled": true
   },
   "outputs": [
    {
     "data": {
      "text/html": [
       "<div>\n",
       "<style>\n",
       "    .dataframe thead tr:only-child th {\n",
       "        text-align: right;\n",
       "    }\n",
       "\n",
       "    .dataframe thead th {\n",
       "        text-align: left;\n",
       "    }\n",
       "\n",
       "    .dataframe tbody tr th {\n",
       "        vertical-align: top;\n",
       "    }\n",
       "</style>\n",
       "<table border=\"1\" class=\"dataframe\">\n",
       "  <thead>\n",
       "    <tr style=\"text-align: right;\">\n",
       "      <th></th>\n",
       "      <th>Total Players</th>\n",
       "    </tr>\n",
       "  </thead>\n",
       "  <tbody>\n",
       "    <tr>\n",
       "      <th>0</th>\n",
       "      <td>573</td>\n",
       "    </tr>\n",
       "  </tbody>\n",
       "</table>\n",
       "</div>"
      ],
      "text/plain": [
       "   Total Players\n",
       "0            573"
      ]
     },
     "execution_count": 197,
     "metadata": {},
     "output_type": "execute_result"
    }
   ],
   "source": [
    "DataFrame( \n",
    "    [ \n",
    "        {\n",
    "            'Total Players': len(df_purchase['SN'].unique()),\n",
    "        }\n",
    "    ]\n",
    ")"
   ]
  },
  {
   "cell_type": "markdown",
   "metadata": {},
   "source": [
    "## Purchasing Analysis (Total)"
   ]
  },
  {
   "cell_type": "code",
   "execution_count": 198,
   "metadata": {},
   "outputs": [
    {
     "data": {
      "text/html": [
       "<style  type=\"text/css\" >\n",
       "</style>  \n",
       "<table id=\"T_ccc890cc_1b6f_11e8_bc0d_74e54394bcc7\" > \n",
       "<thead>    <tr> \n",
       "        <th class=\"blank level0\" ></th> \n",
       "        <th class=\"col_heading level0 col0\" >Number of Unique Items</th> \n",
       "        <th class=\"col_heading level0 col1\" >Average Price</th> \n",
       "        <th class=\"col_heading level0 col2\" >Number of Purchases</th> \n",
       "        <th class=\"col_heading level0 col3\" >Total Revenue</th> \n",
       "    </tr></thead> \n",
       "<tbody>    <tr> \n",
       "        <th id=\"T_ccc890cc_1b6f_11e8_bc0d_74e54394bcc7level0_row0\" class=\"row_heading level0 row0\" >0</th> \n",
       "        <td id=\"T_ccc890cc_1b6f_11e8_bc0d_74e54394bcc7row0_col0\" class=\"data row0 col0\" >183</td> \n",
       "        <td id=\"T_ccc890cc_1b6f_11e8_bc0d_74e54394bcc7row0_col1\" class=\"data row0 col1\" >$2.93</td> \n",
       "        <td id=\"T_ccc890cc_1b6f_11e8_bc0d_74e54394bcc7row0_col2\" class=\"data row0 col2\" >780</td> \n",
       "        <td id=\"T_ccc890cc_1b6f_11e8_bc0d_74e54394bcc7row0_col3\" class=\"data row0 col3\" >$2,286.33</td> \n",
       "    </tr></tbody> \n",
       "</table> "
      ],
      "text/plain": [
       "<pandas.io.formats.style.Styler at 0x1d8f9fd1780>"
      ]
     },
     "execution_count": 198,
     "metadata": {},
     "output_type": "execute_result"
    }
   ],
   "source": [
    "DataFrame(\n",
    "    columns = [\n",
    "       'Number of Unique Items',\n",
    "       'Average Price',\n",
    "       'Number of Purchases',\n",
    "       'Total Revenue',\n",
    "    ],\n",
    "    data = [\n",
    "       [len(df_purchase['Item ID'].unique()),\n",
    "        df_purchase.Price.mean(),\n",
    "        df_purchase.Price.count(),\n",
    "        df_purchase.Price.sum(),\n",
    "       ],\n",
    "    ], \n",
    ").style.format(FORMAT)"
   ]
  },
  {
   "cell_type": "markdown",
   "metadata": {
    "collapsed": true
   },
   "source": [
    "## Gender Demographics"
   ]
  },
  {
   "cell_type": "code",
   "execution_count": 199,
   "metadata": {},
   "outputs": [],
   "source": [
    "def report_demographics(df, groupby):\n",
    "    '''\n",
    "    Report on demographics summary\n",
    "    \n",
    "    :param df: DataFrame input\n",
    "    :param groupby: Summarized by field\n",
    "    :return: Formatted output\n",
    "    '''\n",
    "    return DataFrame(\n",
    "        df.groupby(groupby)['SN'].unique()\n",
    "    ).assign(\n",
    "        cnt = lambda x: x['SN'].map(len)\n",
    "    ).assign(\n",
    "        perc=lambda x: x['cnt'] / len(df['SN'].unique())\n",
    "    ).drop(\n",
    "        'SN', axis=1\n",
    "    ).rename(\n",
    "        columns = {\n",
    "            'cnt': 'Toatl Count',\n",
    "            'perc': 'Percenage of Players'\n",
    "        }\n",
    "    ).style.format(FORMAT)"
   ]
  },
  {
   "cell_type": "code",
   "execution_count": 200,
   "metadata": {},
   "outputs": [
    {
     "data": {
      "text/html": [
       "<style  type=\"text/css\" >\n",
       "</style>  \n",
       "<table id=\"T_cd951a3a_1b6f_11e8_af7a_74e54394bcc7\" > \n",
       "<thead>    <tr> \n",
       "        <th class=\"blank level0\" ></th> \n",
       "        <th class=\"col_heading level0 col0\" >Toatl Count</th> \n",
       "        <th class=\"col_heading level0 col1\" >Percenage of Players</th> \n",
       "    </tr>    <tr> \n",
       "        <th class=\"index_name level0\" >Gender</th> \n",
       "        <th class=\"blank\" ></th> \n",
       "        <th class=\"blank\" ></th> \n",
       "    </tr></thead> \n",
       "<tbody>    <tr> \n",
       "        <th id=\"T_cd951a3a_1b6f_11e8_af7a_74e54394bcc7level0_row0\" class=\"row_heading level0 row0\" >Female</th> \n",
       "        <td id=\"T_cd951a3a_1b6f_11e8_af7a_74e54394bcc7row0_col0\" class=\"data row0 col0\" >100</td> \n",
       "        <td id=\"T_cd951a3a_1b6f_11e8_af7a_74e54394bcc7row0_col1\" class=\"data row0 col1\" >17.45%</td> \n",
       "    </tr>    <tr> \n",
       "        <th id=\"T_cd951a3a_1b6f_11e8_af7a_74e54394bcc7level0_row1\" class=\"row_heading level0 row1\" >Male</th> \n",
       "        <td id=\"T_cd951a3a_1b6f_11e8_af7a_74e54394bcc7row1_col0\" class=\"data row1 col0\" >465</td> \n",
       "        <td id=\"T_cd951a3a_1b6f_11e8_af7a_74e54394bcc7row1_col1\" class=\"data row1 col1\" >81.15%</td> \n",
       "    </tr>    <tr> \n",
       "        <th id=\"T_cd951a3a_1b6f_11e8_af7a_74e54394bcc7level0_row2\" class=\"row_heading level0 row2\" >Other / Non-Disclosed</th> \n",
       "        <td id=\"T_cd951a3a_1b6f_11e8_af7a_74e54394bcc7row2_col0\" class=\"data row2 col0\" >8</td> \n",
       "        <td id=\"T_cd951a3a_1b6f_11e8_af7a_74e54394bcc7row2_col1\" class=\"data row2 col1\" >1.40%</td> \n",
       "    </tr></tbody> \n",
       "</table> "
      ],
      "text/plain": [
       "<pandas.io.formats.style.Styler at 0x1d8f9fcc9e8>"
      ]
     },
     "execution_count": 200,
     "metadata": {},
     "output_type": "execute_result"
    }
   ],
   "source": [
    "report_demographics(df_purchase, 'Gender')"
   ]
  },
  {
   "cell_type": "markdown",
   "metadata": {},
   "source": [
    "## Purchasing Analysis (Gender)\n",
    "**What the hell is 'Normalized Total'?**"
   ]
  },
  {
   "cell_type": "markdown",
   "metadata": {},
   "source": [
    "Normalized totals is a very strange name but from the sample chart, it is mostly the same as average purchase per item but some times lightly higer, and when it is higher there are some player purchse multiple items, so I guess it is actually the purchase value per player."
   ]
  },
  {
   "cell_type": "code",
   "execution_count": 201,
   "metadata": {},
   "outputs": [],
   "source": [
    "def report_analysis(df, groupby):\n",
    "    '''\n",
    "     Generate report of price statistics\n",
    "    \n",
    "    :param df: DataFrame input\n",
    "    :param groupby: Summarized by field\n",
    "    :return: Formatted output\n",
    "    '''\n",
    "    count_unique = lambda x: len(x.unique())\n",
    "    count_unique.__name__ = 'count_unique'\n",
    "    df_summary = df.groupby(groupby)['Price', 'SN'].agg(\n",
    "        {\n",
    "            'Price': ['count', 'mean', 'sum'],\n",
    "            'SN': count_unique\n",
    "        }\n",
    "    )\n",
    " \n",
    "    # Flattern multi level index for easier selection\n",
    "    df_summary.columns = ['_'.join(x) for x in df_summary.columns]\n",
    "    \n",
    "    return df_summary.assign(\n",
    "        normalized_total=lambda x: x['Price_sum']/x['SN_count_unique']\n",
    "    ).drop(\n",
    "        'SN_count_unique', axis=1\n",
    "    ).rename(\n",
    "        columns = {\n",
    "            'Price_count': 'Purchase Count',\n",
    "            'Price_mean': 'Average Purchase Price',\n",
    "            'Price_sum': 'Total Purchase Value',\n",
    "            'normalized_total': 'Normalized Total',\n",
    "        }\n",
    "    ).style.format(FORMAT)"
   ]
  },
  {
   "cell_type": "code",
   "execution_count": 202,
   "metadata": {},
   "outputs": [
    {
     "data": {
      "text/html": [
       "<style  type=\"text/css\" >\n",
       "</style>  \n",
       "<table id=\"T_ce747692_1b6f_11e8_a845_74e54394bcc7\" > \n",
       "<thead>    <tr> \n",
       "        <th class=\"blank level0\" ></th> \n",
       "        <th class=\"col_heading level0 col0\" >Purchase Count</th> \n",
       "        <th class=\"col_heading level0 col1\" >Average Purchase Price</th> \n",
       "        <th class=\"col_heading level0 col2\" >Total Purchase Value</th> \n",
       "        <th class=\"col_heading level0 col3\" >Normalized Total</th> \n",
       "    </tr>    <tr> \n",
       "        <th class=\"index_name level0\" >Gender</th> \n",
       "        <th class=\"blank\" ></th> \n",
       "        <th class=\"blank\" ></th> \n",
       "        <th class=\"blank\" ></th> \n",
       "        <th class=\"blank\" ></th> \n",
       "    </tr></thead> \n",
       "<tbody>    <tr> \n",
       "        <th id=\"T_ce747692_1b6f_11e8_a845_74e54394bcc7level0_row0\" class=\"row_heading level0 row0\" >Female</th> \n",
       "        <td id=\"T_ce747692_1b6f_11e8_a845_74e54394bcc7row0_col0\" class=\"data row0 col0\" >136</td> \n",
       "        <td id=\"T_ce747692_1b6f_11e8_a845_74e54394bcc7row0_col1\" class=\"data row0 col1\" >$2.82</td> \n",
       "        <td id=\"T_ce747692_1b6f_11e8_a845_74e54394bcc7row0_col2\" class=\"data row0 col2\" >$382.91</td> \n",
       "        <td id=\"T_ce747692_1b6f_11e8_a845_74e54394bcc7row0_col3\" class=\"data row0 col3\" >$3.83</td> \n",
       "    </tr>    <tr> \n",
       "        <th id=\"T_ce747692_1b6f_11e8_a845_74e54394bcc7level0_row1\" class=\"row_heading level0 row1\" >Male</th> \n",
       "        <td id=\"T_ce747692_1b6f_11e8_a845_74e54394bcc7row1_col0\" class=\"data row1 col0\" >633</td> \n",
       "        <td id=\"T_ce747692_1b6f_11e8_a845_74e54394bcc7row1_col1\" class=\"data row1 col1\" >$2.95</td> \n",
       "        <td id=\"T_ce747692_1b6f_11e8_a845_74e54394bcc7row1_col2\" class=\"data row1 col2\" >$1,867.68</td> \n",
       "        <td id=\"T_ce747692_1b6f_11e8_a845_74e54394bcc7row1_col3\" class=\"data row1 col3\" >$4.02</td> \n",
       "    </tr>    <tr> \n",
       "        <th id=\"T_ce747692_1b6f_11e8_a845_74e54394bcc7level0_row2\" class=\"row_heading level0 row2\" >Other / Non-Disclosed</th> \n",
       "        <td id=\"T_ce747692_1b6f_11e8_a845_74e54394bcc7row2_col0\" class=\"data row2 col0\" >11</td> \n",
       "        <td id=\"T_ce747692_1b6f_11e8_a845_74e54394bcc7row2_col1\" class=\"data row2 col1\" >$3.25</td> \n",
       "        <td id=\"T_ce747692_1b6f_11e8_a845_74e54394bcc7row2_col2\" class=\"data row2 col2\" >$35.74</td> \n",
       "        <td id=\"T_ce747692_1b6f_11e8_a845_74e54394bcc7row2_col3\" class=\"data row2 col3\" >$4.47</td> \n",
       "    </tr></tbody> \n",
       "</table> "
      ],
      "text/plain": [
       "<pandas.io.formats.style.Styler at 0x1d8f9fceba8>"
      ]
     },
     "execution_count": 202,
     "metadata": {},
     "output_type": "execute_result"
    }
   ],
   "source": [
    "report_analysis(df_purchase, 'Gender')"
   ]
  },
  {
   "cell_type": "markdown",
   "metadata": {},
   "source": [
    "## Age Demographics"
   ]
  },
  {
   "cell_type": "markdown",
   "metadata": {},
   "source": [
    "The sample PDF ashow both Age Demographics and Purchasing Analysis (Age) so I did both."
   ]
  },
  {
   "cell_type": "code",
   "execution_count": 203,
   "metadata": {},
   "outputs": [
    {
     "data": {
      "text/html": [
       "<style  type=\"text/css\" >\n",
       "</style>  \n",
       "<table id=\"T_cefd5eb6_1b6f_11e8_b083_74e54394bcc7\" > \n",
       "<thead>    <tr> \n",
       "        <th class=\"blank level0\" ></th> \n",
       "        <th class=\"col_heading level0 col0\" >Toatl Count</th> \n",
       "        <th class=\"col_heading level0 col1\" >Percenage of Players</th> \n",
       "    </tr>    <tr> \n",
       "        <th class=\"index_name level0\" >Age Range</th> \n",
       "        <th class=\"blank\" ></th> \n",
       "        <th class=\"blank\" ></th> \n",
       "    </tr></thead> \n",
       "<tbody>    <tr> \n",
       "        <th id=\"T_cefd5eb6_1b6f_11e8_b083_74e54394bcc7level0_row0\" class=\"row_heading level0 row0\" >0 to 9</th> \n",
       "        <td id=\"T_cefd5eb6_1b6f_11e8_b083_74e54394bcc7row0_col0\" class=\"data row0 col0\" >22</td> \n",
       "        <td id=\"T_cefd5eb6_1b6f_11e8_b083_74e54394bcc7row0_col1\" class=\"data row0 col1\" >3.84%</td> \n",
       "    </tr>    <tr> \n",
       "        <th id=\"T_cefd5eb6_1b6f_11e8_b083_74e54394bcc7level0_row1\" class=\"row_heading level0 row1\" >10 to 14</th> \n",
       "        <td id=\"T_cefd5eb6_1b6f_11e8_b083_74e54394bcc7row1_col0\" class=\"data row1 col0\" >54</td> \n",
       "        <td id=\"T_cefd5eb6_1b6f_11e8_b083_74e54394bcc7row1_col1\" class=\"data row1 col1\" >9.42%</td> \n",
       "    </tr>    <tr> \n",
       "        <th id=\"T_cefd5eb6_1b6f_11e8_b083_74e54394bcc7level0_row2\" class=\"row_heading level0 row2\" >15 to 19</th> \n",
       "        <td id=\"T_cefd5eb6_1b6f_11e8_b083_74e54394bcc7row2_col0\" class=\"data row2 col0\" >139</td> \n",
       "        <td id=\"T_cefd5eb6_1b6f_11e8_b083_74e54394bcc7row2_col1\" class=\"data row2 col1\" >24.26%</td> \n",
       "    </tr>    <tr> \n",
       "        <th id=\"T_cefd5eb6_1b6f_11e8_b083_74e54394bcc7level0_row3\" class=\"row_heading level0 row3\" >20 to 24</th> \n",
       "        <td id=\"T_cefd5eb6_1b6f_11e8_b083_74e54394bcc7row3_col0\" class=\"data row3 col0\" >234</td> \n",
       "        <td id=\"T_cefd5eb6_1b6f_11e8_b083_74e54394bcc7row3_col1\" class=\"data row3 col1\" >40.84%</td> \n",
       "    </tr>    <tr> \n",
       "        <th id=\"T_cefd5eb6_1b6f_11e8_b083_74e54394bcc7level0_row4\" class=\"row_heading level0 row4\" >25 to 29</th> \n",
       "        <td id=\"T_cefd5eb6_1b6f_11e8_b083_74e54394bcc7row4_col0\" class=\"data row4 col0\" >52</td> \n",
       "        <td id=\"T_cefd5eb6_1b6f_11e8_b083_74e54394bcc7row4_col1\" class=\"data row4 col1\" >9.08%</td> \n",
       "    </tr>    <tr> \n",
       "        <th id=\"T_cefd5eb6_1b6f_11e8_b083_74e54394bcc7level0_row5\" class=\"row_heading level0 row5\" >30 to 34</th> \n",
       "        <td id=\"T_cefd5eb6_1b6f_11e8_b083_74e54394bcc7row5_col0\" class=\"data row5 col0\" >44</td> \n",
       "        <td id=\"T_cefd5eb6_1b6f_11e8_b083_74e54394bcc7row5_col1\" class=\"data row5 col1\" >7.68%</td> \n",
       "    </tr>    <tr> \n",
       "        <th id=\"T_cefd5eb6_1b6f_11e8_b083_74e54394bcc7level0_row6\" class=\"row_heading level0 row6\" >35 to 39</th> \n",
       "        <td id=\"T_cefd5eb6_1b6f_11e8_b083_74e54394bcc7row6_col0\" class=\"data row6 col0\" >25</td> \n",
       "        <td id=\"T_cefd5eb6_1b6f_11e8_b083_74e54394bcc7row6_col1\" class=\"data row6 col1\" >4.36%</td> \n",
       "    </tr>    <tr> \n",
       "        <th id=\"T_cefd5eb6_1b6f_11e8_b083_74e54394bcc7level0_row7\" class=\"row_heading level0 row7\" >40 to 45</th> \n",
       "        <td id=\"T_cefd5eb6_1b6f_11e8_b083_74e54394bcc7row7_col0\" class=\"data row7 col0\" >3</td> \n",
       "        <td id=\"T_cefd5eb6_1b6f_11e8_b083_74e54394bcc7row7_col1\" class=\"data row7 col1\" >0.52%</td> \n",
       "    </tr></tbody> \n",
       "</table> "
      ],
      "text/plain": [
       "<pandas.io.formats.style.Styler at 0x1d8f9fd1898>"
      ]
     },
     "execution_count": 203,
     "metadata": {},
     "output_type": "execute_result"
    }
   ],
   "source": [
    "bin_start = 10\n",
    "bins = [0]\n",
    "max_age = df_purchase.Age.max() \n",
    "bins.extend(range(bin_start, max_age, 5))\n",
    "bins.append(max_age + 1)\n",
    "\n",
    "labels = ['{} to {}'.format(x,y-1) for x,y in zip(bins, bins[1:])]\n",
    "\n",
    "df_purchase.loc[:, 'Age Range'] = pd.cut(df_purchase['Age'], bins=bins, labels=labels)\n",
    "\n",
    "report_demographics(df_purchase, 'Age Range')"
   ]
  },
  {
   "cell_type": "markdown",
   "metadata": {},
   "source": [
    "## Purchasing Analysis (Age)"
   ]
  },
  {
   "cell_type": "code",
   "execution_count": 204,
   "metadata": {},
   "outputs": [
    {
     "data": {
      "text/html": [
       "<style  type=\"text/css\" >\n",
       "</style>  \n",
       "<table id=\"T_cf4d130a_1b6f_11e8_bc77_74e54394bcc7\" > \n",
       "<thead>    <tr> \n",
       "        <th class=\"blank level0\" ></th> \n",
       "        <th class=\"col_heading level0 col0\" >Purchase Count</th> \n",
       "        <th class=\"col_heading level0 col1\" >Average Purchase Price</th> \n",
       "        <th class=\"col_heading level0 col2\" >Total Purchase Value</th> \n",
       "        <th class=\"col_heading level0 col3\" >Normalized Total</th> \n",
       "    </tr>    <tr> \n",
       "        <th class=\"index_name level0\" >Age Range</th> \n",
       "        <th class=\"blank\" ></th> \n",
       "        <th class=\"blank\" ></th> \n",
       "        <th class=\"blank\" ></th> \n",
       "        <th class=\"blank\" ></th> \n",
       "    </tr></thead> \n",
       "<tbody>    <tr> \n",
       "        <th id=\"T_cf4d130a_1b6f_11e8_bc77_74e54394bcc7level0_row0\" class=\"row_heading level0 row0\" >0 to 9</th> \n",
       "        <td id=\"T_cf4d130a_1b6f_11e8_bc77_74e54394bcc7row0_col0\" class=\"data row0 col0\" >32</td> \n",
       "        <td id=\"T_cf4d130a_1b6f_11e8_bc77_74e54394bcc7row0_col1\" class=\"data row0 col1\" >$3.02</td> \n",
       "        <td id=\"T_cf4d130a_1b6f_11e8_bc77_74e54394bcc7row0_col2\" class=\"data row0 col2\" >$96.62</td> \n",
       "        <td id=\"T_cf4d130a_1b6f_11e8_bc77_74e54394bcc7row0_col3\" class=\"data row0 col3\" >$4.39</td> \n",
       "    </tr>    <tr> \n",
       "        <th id=\"T_cf4d130a_1b6f_11e8_bc77_74e54394bcc7level0_row1\" class=\"row_heading level0 row1\" >10 to 14</th> \n",
       "        <td id=\"T_cf4d130a_1b6f_11e8_bc77_74e54394bcc7row1_col0\" class=\"data row1 col0\" >78</td> \n",
       "        <td id=\"T_cf4d130a_1b6f_11e8_bc77_74e54394bcc7row1_col1\" class=\"data row1 col1\" >$2.87</td> \n",
       "        <td id=\"T_cf4d130a_1b6f_11e8_bc77_74e54394bcc7row1_col2\" class=\"data row1 col2\" >$224.15</td> \n",
       "        <td id=\"T_cf4d130a_1b6f_11e8_bc77_74e54394bcc7row1_col3\" class=\"data row1 col3\" >$4.15</td> \n",
       "    </tr>    <tr> \n",
       "        <th id=\"T_cf4d130a_1b6f_11e8_bc77_74e54394bcc7level0_row2\" class=\"row_heading level0 row2\" >15 to 19</th> \n",
       "        <td id=\"T_cf4d130a_1b6f_11e8_bc77_74e54394bcc7row2_col0\" class=\"data row2 col0\" >184</td> \n",
       "        <td id=\"T_cf4d130a_1b6f_11e8_bc77_74e54394bcc7row2_col1\" class=\"data row2 col1\" >$2.87</td> \n",
       "        <td id=\"T_cf4d130a_1b6f_11e8_bc77_74e54394bcc7row2_col2\" class=\"data row2 col2\" >$528.74</td> \n",
       "        <td id=\"T_cf4d130a_1b6f_11e8_bc77_74e54394bcc7row2_col3\" class=\"data row2 col3\" >$3.80</td> \n",
       "    </tr>    <tr> \n",
       "        <th id=\"T_cf4d130a_1b6f_11e8_bc77_74e54394bcc7level0_row3\" class=\"row_heading level0 row3\" >20 to 24</th> \n",
       "        <td id=\"T_cf4d130a_1b6f_11e8_bc77_74e54394bcc7row3_col0\" class=\"data row3 col0\" >305</td> \n",
       "        <td id=\"T_cf4d130a_1b6f_11e8_bc77_74e54394bcc7row3_col1\" class=\"data row3 col1\" >$2.96</td> \n",
       "        <td id=\"T_cf4d130a_1b6f_11e8_bc77_74e54394bcc7row3_col2\" class=\"data row3 col2\" >$902.61</td> \n",
       "        <td id=\"T_cf4d130a_1b6f_11e8_bc77_74e54394bcc7row3_col3\" class=\"data row3 col3\" >$3.86</td> \n",
       "    </tr>    <tr> \n",
       "        <th id=\"T_cf4d130a_1b6f_11e8_bc77_74e54394bcc7level0_row4\" class=\"row_heading level0 row4\" >25 to 29</th> \n",
       "        <td id=\"T_cf4d130a_1b6f_11e8_bc77_74e54394bcc7row4_col0\" class=\"data row4 col0\" >76</td> \n",
       "        <td id=\"T_cf4d130a_1b6f_11e8_bc77_74e54394bcc7row4_col1\" class=\"data row4 col1\" >$2.89</td> \n",
       "        <td id=\"T_cf4d130a_1b6f_11e8_bc77_74e54394bcc7row4_col2\" class=\"data row4 col2\" >$219.82</td> \n",
       "        <td id=\"T_cf4d130a_1b6f_11e8_bc77_74e54394bcc7row4_col3\" class=\"data row4 col3\" >$4.23</td> \n",
       "    </tr>    <tr> \n",
       "        <th id=\"T_cf4d130a_1b6f_11e8_bc77_74e54394bcc7level0_row5\" class=\"row_heading level0 row5\" >30 to 34</th> \n",
       "        <td id=\"T_cf4d130a_1b6f_11e8_bc77_74e54394bcc7row5_col0\" class=\"data row5 col0\" >58</td> \n",
       "        <td id=\"T_cf4d130a_1b6f_11e8_bc77_74e54394bcc7row5_col1\" class=\"data row5 col1\" >$3.07</td> \n",
       "        <td id=\"T_cf4d130a_1b6f_11e8_bc77_74e54394bcc7row5_col2\" class=\"data row5 col2\" >$178.26</td> \n",
       "        <td id=\"T_cf4d130a_1b6f_11e8_bc77_74e54394bcc7row5_col3\" class=\"data row5 col3\" >$4.05</td> \n",
       "    </tr>    <tr> \n",
       "        <th id=\"T_cf4d130a_1b6f_11e8_bc77_74e54394bcc7level0_row6\" class=\"row_heading level0 row6\" >35 to 39</th> \n",
       "        <td id=\"T_cf4d130a_1b6f_11e8_bc77_74e54394bcc7row6_col0\" class=\"data row6 col0\" >44</td> \n",
       "        <td id=\"T_cf4d130a_1b6f_11e8_bc77_74e54394bcc7row6_col1\" class=\"data row6 col1\" >$2.90</td> \n",
       "        <td id=\"T_cf4d130a_1b6f_11e8_bc77_74e54394bcc7row6_col2\" class=\"data row6 col2\" >$127.49</td> \n",
       "        <td id=\"T_cf4d130a_1b6f_11e8_bc77_74e54394bcc7row6_col3\" class=\"data row6 col3\" >$5.10</td> \n",
       "    </tr>    <tr> \n",
       "        <th id=\"T_cf4d130a_1b6f_11e8_bc77_74e54394bcc7level0_row7\" class=\"row_heading level0 row7\" >40 to 45</th> \n",
       "        <td id=\"T_cf4d130a_1b6f_11e8_bc77_74e54394bcc7row7_col0\" class=\"data row7 col0\" >3</td> \n",
       "        <td id=\"T_cf4d130a_1b6f_11e8_bc77_74e54394bcc7row7_col1\" class=\"data row7 col1\" >$2.88</td> \n",
       "        <td id=\"T_cf4d130a_1b6f_11e8_bc77_74e54394bcc7row7_col2\" class=\"data row7 col2\" >$8.64</td> \n",
       "        <td id=\"T_cf4d130a_1b6f_11e8_bc77_74e54394bcc7row7_col3\" class=\"data row7 col3\" >$2.88</td> \n",
       "    </tr></tbody> \n",
       "</table> "
      ],
      "text/plain": [
       "<pandas.io.formats.style.Styler at 0x1d8f9fd71d0>"
      ]
     },
     "execution_count": 204,
     "metadata": {},
     "output_type": "execute_result"
    }
   ],
   "source": [
    "report_analysis(df_purchase, 'Age Range')"
   ]
  },
  {
   "cell_type": "markdown",
   "metadata": {},
   "source": [
    "## Top Spenders"
   ]
  },
  {
   "cell_type": "code",
   "execution_count": 205,
   "metadata": {
    "collapsed": true
   },
   "outputs": [],
   "source": [
    "def report_top(df, groupby, by='sum', top=5):\n",
    "    '''\n",
    "    Report on top items. Default to 'sum' statistics, and top 5.\n",
    "    \n",
    "    :param df: DataFrame input\n",
    "    :param groupby: Summarized by field\n",
    "    :param by: Summary statistics\n",
    "    :param top: How many top items\n",
    "    :return: Formatted output\n",
    "    '''\n",
    "    return df.groupby(groupby)['Price'].agg(\n",
    "        ['count', 'mean', 'sum']\n",
    "    ).sort_values(\n",
    "        by=by, \n",
    "        ascending=False\n",
    "    ).rename(\n",
    "        columns={\n",
    "            'count': 'Purchase Count',\n",
    "            'mean': 'Average Purchase Price',\n",
    "            'sum': 'Total Purchase Value'\n",
    "        }\n",
    "    ).head(top).style.format(FORMAT)"
   ]
  },
  {
   "cell_type": "code",
   "execution_count": 206,
   "metadata": {},
   "outputs": [
    {
     "data": {
      "text/html": [
       "<style  type=\"text/css\" >\n",
       "</style>  \n",
       "<table id=\"T_cfcae06c_1b6f_11e8_b05d_74e54394bcc7\" > \n",
       "<thead>    <tr> \n",
       "        <th class=\"blank level0\" ></th> \n",
       "        <th class=\"col_heading level0 col0\" >Purchase Count</th> \n",
       "        <th class=\"col_heading level0 col1\" >Average Purchase Price</th> \n",
       "        <th class=\"col_heading level0 col2\" >Total Purchase Value</th> \n",
       "    </tr>    <tr> \n",
       "        <th class=\"index_name level0\" >SN</th> \n",
       "        <th class=\"blank\" ></th> \n",
       "        <th class=\"blank\" ></th> \n",
       "        <th class=\"blank\" ></th> \n",
       "    </tr></thead> \n",
       "<tbody>    <tr> \n",
       "        <th id=\"T_cfcae06c_1b6f_11e8_b05d_74e54394bcc7level0_row0\" class=\"row_heading level0 row0\" >Undirrala66</th> \n",
       "        <td id=\"T_cfcae06c_1b6f_11e8_b05d_74e54394bcc7row0_col0\" class=\"data row0 col0\" >5</td> \n",
       "        <td id=\"T_cfcae06c_1b6f_11e8_b05d_74e54394bcc7row0_col1\" class=\"data row0 col1\" >$3.41</td> \n",
       "        <td id=\"T_cfcae06c_1b6f_11e8_b05d_74e54394bcc7row0_col2\" class=\"data row0 col2\" >$17.06</td> \n",
       "    </tr>    <tr> \n",
       "        <th id=\"T_cfcae06c_1b6f_11e8_b05d_74e54394bcc7level0_row1\" class=\"row_heading level0 row1\" >Saedue76</th> \n",
       "        <td id=\"T_cfcae06c_1b6f_11e8_b05d_74e54394bcc7row1_col0\" class=\"data row1 col0\" >4</td> \n",
       "        <td id=\"T_cfcae06c_1b6f_11e8_b05d_74e54394bcc7row1_col1\" class=\"data row1 col1\" >$3.39</td> \n",
       "        <td id=\"T_cfcae06c_1b6f_11e8_b05d_74e54394bcc7row1_col2\" class=\"data row1 col2\" >$13.56</td> \n",
       "    </tr>    <tr> \n",
       "        <th id=\"T_cfcae06c_1b6f_11e8_b05d_74e54394bcc7level0_row2\" class=\"row_heading level0 row2\" >Mindimnya67</th> \n",
       "        <td id=\"T_cfcae06c_1b6f_11e8_b05d_74e54394bcc7row2_col0\" class=\"data row2 col0\" >4</td> \n",
       "        <td id=\"T_cfcae06c_1b6f_11e8_b05d_74e54394bcc7row2_col1\" class=\"data row2 col1\" >$3.18</td> \n",
       "        <td id=\"T_cfcae06c_1b6f_11e8_b05d_74e54394bcc7row2_col2\" class=\"data row2 col2\" >$12.74</td> \n",
       "    </tr>    <tr> \n",
       "        <th id=\"T_cfcae06c_1b6f_11e8_b05d_74e54394bcc7level0_row3\" class=\"row_heading level0 row3\" >Haellysu29</th> \n",
       "        <td id=\"T_cfcae06c_1b6f_11e8_b05d_74e54394bcc7row3_col0\" class=\"data row3 col0\" >3</td> \n",
       "        <td id=\"T_cfcae06c_1b6f_11e8_b05d_74e54394bcc7row3_col1\" class=\"data row3 col1\" >$4.24</td> \n",
       "        <td id=\"T_cfcae06c_1b6f_11e8_b05d_74e54394bcc7row3_col2\" class=\"data row3 col2\" >$12.73</td> \n",
       "    </tr>    <tr> \n",
       "        <th id=\"T_cfcae06c_1b6f_11e8_b05d_74e54394bcc7level0_row4\" class=\"row_heading level0 row4\" >Eoda93</th> \n",
       "        <td id=\"T_cfcae06c_1b6f_11e8_b05d_74e54394bcc7row4_col0\" class=\"data row4 col0\" >3</td> \n",
       "        <td id=\"T_cfcae06c_1b6f_11e8_b05d_74e54394bcc7row4_col1\" class=\"data row4 col1\" >$3.86</td> \n",
       "        <td id=\"T_cfcae06c_1b6f_11e8_b05d_74e54394bcc7row4_col2\" class=\"data row4 col2\" >$11.58</td> \n",
       "    </tr></tbody> \n",
       "</table> "
      ],
      "text/plain": [
       "<pandas.io.formats.style.Styler at 0x1d8f9fd3cf8>"
      ]
     },
     "execution_count": 206,
     "metadata": {},
     "output_type": "execute_result"
    }
   ],
   "source": [
    "report_top(df_purchase, 'SN')"
   ]
  },
  {
   "cell_type": "markdown",
   "metadata": {},
   "source": [
    "## Most Popular Items"
   ]
  },
  {
   "cell_type": "code",
   "execution_count": 207,
   "metadata": {},
   "outputs": [
    {
     "data": {
      "text/html": [
       "<style  type=\"text/css\" >\n",
       "</style>  \n",
       "<table id=\"T_d043cdb0_1b6f_11e8_8be7_74e54394bcc7\" > \n",
       "<thead>    <tr> \n",
       "        <th class=\"blank\" ></th> \n",
       "        <th class=\"blank level0\" ></th> \n",
       "        <th class=\"col_heading level0 col0\" >Purchase Count</th> \n",
       "        <th class=\"col_heading level0 col1\" >Average Purchase Price</th> \n",
       "        <th class=\"col_heading level0 col2\" >Total Purchase Value</th> \n",
       "    </tr>    <tr> \n",
       "        <th class=\"index_name level0\" >Item ID</th> \n",
       "        <th class=\"index_name level1\" >Item Name</th> \n",
       "        <th class=\"blank\" ></th> \n",
       "        <th class=\"blank\" ></th> \n",
       "        <th class=\"blank\" ></th> \n",
       "    </tr></thead> \n",
       "<tbody>    <tr> \n",
       "        <th id=\"T_d043cdb0_1b6f_11e8_8be7_74e54394bcc7level0_row0\" class=\"row_heading level0 row0\" >39</th> \n",
       "        <th id=\"T_d043cdb0_1b6f_11e8_8be7_74e54394bcc7level1_row0\" class=\"row_heading level1 row0\" >Betrayal, Whisper of Grieving Widows</th> \n",
       "        <td id=\"T_d043cdb0_1b6f_11e8_8be7_74e54394bcc7row0_col0\" class=\"data row0 col0\" >11</td> \n",
       "        <td id=\"T_d043cdb0_1b6f_11e8_8be7_74e54394bcc7row0_col1\" class=\"data row0 col1\" >$2.35</td> \n",
       "        <td id=\"T_d043cdb0_1b6f_11e8_8be7_74e54394bcc7row0_col2\" class=\"data row0 col2\" >$25.85</td> \n",
       "    </tr>    <tr> \n",
       "        <th id=\"T_d043cdb0_1b6f_11e8_8be7_74e54394bcc7level0_row1\" class=\"row_heading level0 row1\" >84</th> \n",
       "        <th id=\"T_d043cdb0_1b6f_11e8_8be7_74e54394bcc7level1_row1\" class=\"row_heading level1 row1\" >Arcane Gem</th> \n",
       "        <td id=\"T_d043cdb0_1b6f_11e8_8be7_74e54394bcc7row1_col0\" class=\"data row1 col0\" >11</td> \n",
       "        <td id=\"T_d043cdb0_1b6f_11e8_8be7_74e54394bcc7row1_col1\" class=\"data row1 col1\" >$2.23</td> \n",
       "        <td id=\"T_d043cdb0_1b6f_11e8_8be7_74e54394bcc7row1_col2\" class=\"data row1 col2\" >$24.53</td> \n",
       "    </tr>    <tr> \n",
       "        <th id=\"T_d043cdb0_1b6f_11e8_8be7_74e54394bcc7level0_row2\" class=\"row_heading level0 row2\" >31</th> \n",
       "        <th id=\"T_d043cdb0_1b6f_11e8_8be7_74e54394bcc7level1_row2\" class=\"row_heading level1 row2\" >Trickster</th> \n",
       "        <td id=\"T_d043cdb0_1b6f_11e8_8be7_74e54394bcc7row2_col0\" class=\"data row2 col0\" >9</td> \n",
       "        <td id=\"T_d043cdb0_1b6f_11e8_8be7_74e54394bcc7row2_col1\" class=\"data row2 col1\" >$2.07</td> \n",
       "        <td id=\"T_d043cdb0_1b6f_11e8_8be7_74e54394bcc7row2_col2\" class=\"data row2 col2\" >$18.63</td> \n",
       "    </tr>    <tr> \n",
       "        <th id=\"T_d043cdb0_1b6f_11e8_8be7_74e54394bcc7level0_row3\" class=\"row_heading level0 row3\" >175</th> \n",
       "        <th id=\"T_d043cdb0_1b6f_11e8_8be7_74e54394bcc7level1_row3\" class=\"row_heading level1 row3\" >Woeful Adamantite Claymore</th> \n",
       "        <td id=\"T_d043cdb0_1b6f_11e8_8be7_74e54394bcc7row3_col0\" class=\"data row3 col0\" >9</td> \n",
       "        <td id=\"T_d043cdb0_1b6f_11e8_8be7_74e54394bcc7row3_col1\" class=\"data row3 col1\" >$1.24</td> \n",
       "        <td id=\"T_d043cdb0_1b6f_11e8_8be7_74e54394bcc7row3_col2\" class=\"data row3 col2\" >$11.16</td> \n",
       "    </tr>    <tr> \n",
       "        <th id=\"T_d043cdb0_1b6f_11e8_8be7_74e54394bcc7level0_row4\" class=\"row_heading level0 row4\" >13</th> \n",
       "        <th id=\"T_d043cdb0_1b6f_11e8_8be7_74e54394bcc7level1_row4\" class=\"row_heading level1 row4\" >Serenity</th> \n",
       "        <td id=\"T_d043cdb0_1b6f_11e8_8be7_74e54394bcc7row4_col0\" class=\"data row4 col0\" >9</td> \n",
       "        <td id=\"T_d043cdb0_1b6f_11e8_8be7_74e54394bcc7row4_col1\" class=\"data row4 col1\" >$1.49</td> \n",
       "        <td id=\"T_d043cdb0_1b6f_11e8_8be7_74e54394bcc7row4_col2\" class=\"data row4 col2\" >$13.41</td> \n",
       "    </tr></tbody> \n",
       "</table> "
      ],
      "text/plain": [
       "<pandas.io.formats.style.Styler at 0x1d8f9fc96a0>"
      ]
     },
     "execution_count": 207,
     "metadata": {},
     "output_type": "execute_result"
    }
   ],
   "source": [
    "report_top(df_purchase, ['Item ID', 'Item Name'], by='count')"
   ]
  },
  {
   "cell_type": "markdown",
   "metadata": {
    "collapsed": true
   },
   "source": [
    "## Most Porfitable Items"
   ]
  },
  {
   "cell_type": "code",
   "execution_count": 208,
   "metadata": {},
   "outputs": [
    {
     "data": {
      "text/html": [
       "<style  type=\"text/css\" >\n",
       "</style>  \n",
       "<table id=\"T_d0e550c6_1b6f_11e8_98ce_74e54394bcc7\" > \n",
       "<thead>    <tr> \n",
       "        <th class=\"blank\" ></th> \n",
       "        <th class=\"blank level0\" ></th> \n",
       "        <th class=\"col_heading level0 col0\" >Purchase Count</th> \n",
       "        <th class=\"col_heading level0 col1\" >Average Purchase Price</th> \n",
       "        <th class=\"col_heading level0 col2\" >Total Purchase Value</th> \n",
       "    </tr>    <tr> \n",
       "        <th class=\"index_name level0\" >Item ID</th> \n",
       "        <th class=\"index_name level1\" >Item Name</th> \n",
       "        <th class=\"blank\" ></th> \n",
       "        <th class=\"blank\" ></th> \n",
       "        <th class=\"blank\" ></th> \n",
       "    </tr></thead> \n",
       "<tbody>    <tr> \n",
       "        <th id=\"T_d0e550c6_1b6f_11e8_98ce_74e54394bcc7level0_row0\" class=\"row_heading level0 row0\" >34</th> \n",
       "        <th id=\"T_d0e550c6_1b6f_11e8_98ce_74e54394bcc7level1_row0\" class=\"row_heading level1 row0\" >Retribution Axe</th> \n",
       "        <td id=\"T_d0e550c6_1b6f_11e8_98ce_74e54394bcc7row0_col0\" class=\"data row0 col0\" >9</td> \n",
       "        <td id=\"T_d0e550c6_1b6f_11e8_98ce_74e54394bcc7row0_col1\" class=\"data row0 col1\" >$4.14</td> \n",
       "        <td id=\"T_d0e550c6_1b6f_11e8_98ce_74e54394bcc7row0_col2\" class=\"data row0 col2\" >$37.26</td> \n",
       "    </tr>    <tr> \n",
       "        <th id=\"T_d0e550c6_1b6f_11e8_98ce_74e54394bcc7level0_row1\" class=\"row_heading level0 row1\" >115</th> \n",
       "        <th id=\"T_d0e550c6_1b6f_11e8_98ce_74e54394bcc7level1_row1\" class=\"row_heading level1 row1\" >Spectral Diamond Doomblade</th> \n",
       "        <td id=\"T_d0e550c6_1b6f_11e8_98ce_74e54394bcc7row1_col0\" class=\"data row1 col0\" >7</td> \n",
       "        <td id=\"T_d0e550c6_1b6f_11e8_98ce_74e54394bcc7row1_col1\" class=\"data row1 col1\" >$4.25</td> \n",
       "        <td id=\"T_d0e550c6_1b6f_11e8_98ce_74e54394bcc7row1_col2\" class=\"data row1 col2\" >$29.75</td> \n",
       "    </tr>    <tr> \n",
       "        <th id=\"T_d0e550c6_1b6f_11e8_98ce_74e54394bcc7level0_row2\" class=\"row_heading level0 row2\" >32</th> \n",
       "        <th id=\"T_d0e550c6_1b6f_11e8_98ce_74e54394bcc7level1_row2\" class=\"row_heading level1 row2\" >Orenmir</th> \n",
       "        <td id=\"T_d0e550c6_1b6f_11e8_98ce_74e54394bcc7row2_col0\" class=\"data row2 col0\" >6</td> \n",
       "        <td id=\"T_d0e550c6_1b6f_11e8_98ce_74e54394bcc7row2_col1\" class=\"data row2 col1\" >$4.95</td> \n",
       "        <td id=\"T_d0e550c6_1b6f_11e8_98ce_74e54394bcc7row2_col2\" class=\"data row2 col2\" >$29.70</td> \n",
       "    </tr>    <tr> \n",
       "        <th id=\"T_d0e550c6_1b6f_11e8_98ce_74e54394bcc7level0_row3\" class=\"row_heading level0 row3\" >103</th> \n",
       "        <th id=\"T_d0e550c6_1b6f_11e8_98ce_74e54394bcc7level1_row3\" class=\"row_heading level1 row3\" >Singed Scalpel</th> \n",
       "        <td id=\"T_d0e550c6_1b6f_11e8_98ce_74e54394bcc7row3_col0\" class=\"data row3 col0\" >6</td> \n",
       "        <td id=\"T_d0e550c6_1b6f_11e8_98ce_74e54394bcc7row3_col1\" class=\"data row3 col1\" >$4.87</td> \n",
       "        <td id=\"T_d0e550c6_1b6f_11e8_98ce_74e54394bcc7row3_col2\" class=\"data row3 col2\" >$29.22</td> \n",
       "    </tr>    <tr> \n",
       "        <th id=\"T_d0e550c6_1b6f_11e8_98ce_74e54394bcc7level0_row4\" class=\"row_heading level0 row4\" >107</th> \n",
       "        <th id=\"T_d0e550c6_1b6f_11e8_98ce_74e54394bcc7level1_row4\" class=\"row_heading level1 row4\" >Splitter, Foe Of Subtlety</th> \n",
       "        <td id=\"T_d0e550c6_1b6f_11e8_98ce_74e54394bcc7row4_col0\" class=\"data row4 col0\" >8</td> \n",
       "        <td id=\"T_d0e550c6_1b6f_11e8_98ce_74e54394bcc7row4_col1\" class=\"data row4 col1\" >$3.61</td> \n",
       "        <td id=\"T_d0e550c6_1b6f_11e8_98ce_74e54394bcc7row4_col2\" class=\"data row4 col2\" >$28.88</td> \n",
       "    </tr></tbody> \n",
       "</table> "
      ],
      "text/plain": [
       "<pandas.io.formats.style.Styler at 0x1d8f9fc9d68>"
      ]
     },
     "execution_count": 208,
     "metadata": {},
     "output_type": "execute_result"
    }
   ],
   "source": [
    "report_top(df_purchase, ['Item ID', 'Item Name'])"
   ]
  },
  {
   "cell_type": "code",
   "execution_count": null,
   "metadata": {
    "collapsed": true
   },
   "outputs": [],
   "source": []
  }
 ],
 "metadata": {
  "kernelspec": {
   "display_name": "Python 3",
   "language": "python",
   "name": "python3"
  },
  "language_info": {
   "codemirror_mode": {
    "name": "ipython",
    "version": 3
   },
   "file_extension": ".py",
   "mimetype": "text/x-python",
   "name": "python",
   "nbconvert_exporter": "python",
   "pygments_lexer": "ipython3",
   "version": "3.6.3"
  }
 },
 "nbformat": 4,
 "nbformat_minor": 2
}
